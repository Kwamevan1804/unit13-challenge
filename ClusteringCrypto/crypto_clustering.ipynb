{
 "cells": [
  {
   "cell_type": "markdown",
   "metadata": {},
   "source": [
    "# Clustering Crypto"
   ]
  },
  {
   "cell_type": "code",
   "execution_count": 37,
   "metadata": {},
   "outputs": [],
   "source": [
    "# Initial imports\n",
    "import requests\n",
    "import pandas as pd\n",
    "import matplotlib.pyplot as plt\n",
    "import hvplot.pandas\n",
    "import plotly.express as px\n",
    "from sklearn.preprocessing import StandardScaler, MinMaxScaler\n",
    "from sklearn.decomposition import PCA\n",
    "from sklearn.cluster import KMeans"
   ]
  },
  {
   "cell_type": "markdown",
   "metadata": {},
   "source": [
    "### Fetching Cryptocurrency Data"
   ]
  },
  {
   "cell_type": "code",
   "execution_count": 38,
   "metadata": {},
   "outputs": [],
   "source": [
    "# Use the following endpoint to fetch json data\n",
    "url = \"https://min-api.cryptocompare.com/data/all/coinlist\""
   ]
  },
  {
   "cell_type": "code",
   "execution_count": 39,
   "metadata": {},
   "outputs": [
    {
     "data": {
      "text/html": [
       "<div>\n",
       "<style scoped>\n",
       "    .dataframe tbody tr th:only-of-type {\n",
       "        vertical-align: middle;\n",
       "    }\n",
       "\n",
       "    .dataframe tbody tr th {\n",
       "        vertical-align: top;\n",
       "    }\n",
       "\n",
       "    .dataframe thead th {\n",
       "        text-align: right;\n",
       "    }\n",
       "</style>\n",
       "<table border=\"1\" class=\"dataframe\">\n",
       "  <thead>\n",
       "    <tr style=\"text-align: right;\">\n",
       "      <th></th>\n",
       "      <th>Algorithm</th>\n",
       "      <th>AssetLaunchDate</th>\n",
       "      <th>AssetTokenStatus</th>\n",
       "      <th>BlockNumber</th>\n",
       "      <th>BlockReward</th>\n",
       "      <th>BlockTime</th>\n",
       "      <th>BuiltOn</th>\n",
       "      <th>CoinName</th>\n",
       "      <th>ContentCreatedOn</th>\n",
       "      <th>DecimalPoints</th>\n",
       "      <th>...</th>\n",
       "      <th>PlatformType</th>\n",
       "      <th>ProofType</th>\n",
       "      <th>Rating</th>\n",
       "      <th>SmartContractAddress</th>\n",
       "      <th>SortOrder</th>\n",
       "      <th>Sponsored</th>\n",
       "      <th>Symbol</th>\n",
       "      <th>Taxonomy</th>\n",
       "      <th>TotalCoinsMined</th>\n",
       "      <th>Url</th>\n",
       "    </tr>\n",
       "  </thead>\n",
       "  <tbody>\n",
       "    <tr>\n",
       "      <th>42</th>\n",
       "      <td>Scrypt</td>\n",
       "      <td>0000-00-00</td>\n",
       "      <td>N/A</td>\n",
       "      <td>0</td>\n",
       "      <td>0</td>\n",
       "      <td>0</td>\n",
       "      <td>NaN</td>\n",
       "      <td>42 Coin</td>\n",
       "      <td>1427211129</td>\n",
       "      <td>NaN</td>\n",
       "      <td>...</td>\n",
       "      <td>NaN</td>\n",
       "      <td>PoW/PoS</td>\n",
       "      <td>{'Weiss': {'Rating': '', 'TechnologyAdoptionRa...</td>\n",
       "      <td>NaN</td>\n",
       "      <td>34</td>\n",
       "      <td>False</td>\n",
       "      <td>42</td>\n",
       "      <td>{'Access': '', 'FCA': '', 'FINMA': '', 'Indust...</td>\n",
       "      <td>0</td>\n",
       "      <td>/coins/42/overview</td>\n",
       "    </tr>\n",
       "    <tr>\n",
       "      <th>300</th>\n",
       "      <td>N/A</td>\n",
       "      <td>2017-07-01</td>\n",
       "      <td>N/A</td>\n",
       "      <td>0</td>\n",
       "      <td>0</td>\n",
       "      <td>0</td>\n",
       "      <td>ETH</td>\n",
       "      <td>300 token</td>\n",
       "      <td>1517935016</td>\n",
       "      <td>18</td>\n",
       "      <td>...</td>\n",
       "      <td>token</td>\n",
       "      <td>N/A</td>\n",
       "      <td>{'Weiss': {'Rating': '', 'TechnologyAdoptionRa...</td>\n",
       "      <td>0xaec98a708810414878c3bcdf46aad31ded4a4557</td>\n",
       "      <td>2212</td>\n",
       "      <td>False</td>\n",
       "      <td>300</td>\n",
       "      <td>{'Access': '', 'FCA': '', 'FINMA': '', 'Indust...</td>\n",
       "      <td>300</td>\n",
       "      <td>/coins/300/overview</td>\n",
       "    </tr>\n",
       "    <tr>\n",
       "      <th>365</th>\n",
       "      <td>X11</td>\n",
       "      <td>0000-00-00</td>\n",
       "      <td>N/A</td>\n",
       "      <td>0</td>\n",
       "      <td>0</td>\n",
       "      <td>0</td>\n",
       "      <td>NaN</td>\n",
       "      <td>365Coin</td>\n",
       "      <td>1480032918</td>\n",
       "      <td>NaN</td>\n",
       "      <td>...</td>\n",
       "      <td>NaN</td>\n",
       "      <td>PoW/PoS</td>\n",
       "      <td>{'Weiss': {'Rating': '', 'TechnologyAdoptionRa...</td>\n",
       "      <td>NaN</td>\n",
       "      <td>916</td>\n",
       "      <td>False</td>\n",
       "      <td>365</td>\n",
       "      <td>{'Access': '', 'FCA': '', 'FINMA': '', 'Indust...</td>\n",
       "      <td>0</td>\n",
       "      <td>/coins/365/overview</td>\n",
       "    </tr>\n",
       "    <tr>\n",
       "      <th>404</th>\n",
       "      <td>Scrypt</td>\n",
       "      <td>0000-00-00</td>\n",
       "      <td>N/A</td>\n",
       "      <td>0</td>\n",
       "      <td>0</td>\n",
       "      <td>0</td>\n",
       "      <td>NaN</td>\n",
       "      <td>404Coin</td>\n",
       "      <td>1466100361</td>\n",
       "      <td>NaN</td>\n",
       "      <td>...</td>\n",
       "      <td>NaN</td>\n",
       "      <td>PoW/PoS</td>\n",
       "      <td>{'Weiss': {'Rating': '', 'TechnologyAdoptionRa...</td>\n",
       "      <td>NaN</td>\n",
       "      <td>602</td>\n",
       "      <td>False</td>\n",
       "      <td>404</td>\n",
       "      <td>{'Access': '', 'FCA': '', 'FINMA': '', 'Indust...</td>\n",
       "      <td>0</td>\n",
       "      <td>/coins/404/overview</td>\n",
       "    </tr>\n",
       "    <tr>\n",
       "      <th>433</th>\n",
       "      <td>N/A</td>\n",
       "      <td>NaN</td>\n",
       "      <td>Finished</td>\n",
       "      <td>NaN</td>\n",
       "      <td>NaN</td>\n",
       "      <td>NaN</td>\n",
       "      <td>NaN</td>\n",
       "      <td>433 Token</td>\n",
       "      <td>1541597321</td>\n",
       "      <td>NaN</td>\n",
       "      <td>...</td>\n",
       "      <td>NaN</td>\n",
       "      <td>N/A</td>\n",
       "      <td>{'Weiss': {'Rating': '', 'TechnologyAdoptionRa...</td>\n",
       "      <td>NaN</td>\n",
       "      <td>3505</td>\n",
       "      <td>False</td>\n",
       "      <td>433</td>\n",
       "      <td>{'Access': '', 'FCA': '', 'FINMA': '', 'Indust...</td>\n",
       "      <td>NaN</td>\n",
       "      <td>/coins/433/overview</td>\n",
       "    </tr>\n",
       "  </tbody>\n",
       "</table>\n",
       "<p>5 rows × 32 columns</p>\n",
       "</div>"
      ],
      "text/plain": [
       "    Algorithm AssetLaunchDate AssetTokenStatus BlockNumber BlockReward  \\\n",
       "42     Scrypt      0000-00-00              N/A           0           0   \n",
       "300       N/A      2017-07-01              N/A           0           0   \n",
       "365       X11      0000-00-00              N/A           0           0   \n",
       "404    Scrypt      0000-00-00              N/A           0           0   \n",
       "433       N/A             NaN         Finished         NaN         NaN   \n",
       "\n",
       "    BlockTime BuiltOn   CoinName ContentCreatedOn DecimalPoints  ...  \\\n",
       "42          0     NaN    42 Coin       1427211129           NaN  ...   \n",
       "300         0     ETH  300 token       1517935016            18  ...   \n",
       "365         0     NaN    365Coin       1480032918           NaN  ...   \n",
       "404         0     NaN    404Coin       1466100361           NaN  ...   \n",
       "433       NaN     NaN  433 Token       1541597321           NaN  ...   \n",
       "\n",
       "    PlatformType ProofType                                             Rating  \\\n",
       "42           NaN   PoW/PoS  {'Weiss': {'Rating': '', 'TechnologyAdoptionRa...   \n",
       "300        token       N/A  {'Weiss': {'Rating': '', 'TechnologyAdoptionRa...   \n",
       "365          NaN   PoW/PoS  {'Weiss': {'Rating': '', 'TechnologyAdoptionRa...   \n",
       "404          NaN   PoW/PoS  {'Weiss': {'Rating': '', 'TechnologyAdoptionRa...   \n",
       "433          NaN       N/A  {'Weiss': {'Rating': '', 'TechnologyAdoptionRa...   \n",
       "\n",
       "                           SmartContractAddress SortOrder Sponsored Symbol  \\\n",
       "42                                          NaN        34     False     42   \n",
       "300  0xaec98a708810414878c3bcdf46aad31ded4a4557      2212     False    300   \n",
       "365                                         NaN       916     False    365   \n",
       "404                                         NaN       602     False    404   \n",
       "433                                         NaN      3505     False    433   \n",
       "\n",
       "                                              Taxonomy TotalCoinsMined  \\\n",
       "42   {'Access': '', 'FCA': '', 'FINMA': '', 'Indust...               0   \n",
       "300  {'Access': '', 'FCA': '', 'FINMA': '', 'Indust...             300   \n",
       "365  {'Access': '', 'FCA': '', 'FINMA': '', 'Indust...               0   \n",
       "404  {'Access': '', 'FCA': '', 'FINMA': '', 'Indust...               0   \n",
       "433  {'Access': '', 'FCA': '', 'FINMA': '', 'Indust...             NaN   \n",
       "\n",
       "                     Url  \n",
       "42    /coins/42/overview  \n",
       "300  /coins/300/overview  \n",
       "365  /coins/365/overview  \n",
       "404  /coins/404/overview  \n",
       "433  /coins/433/overview  \n",
       "\n",
       "[5 rows x 32 columns]"
      ]
     },
     "execution_count": 39,
     "metadata": {},
     "output_type": "execute_result"
    }
   ],
   "source": [
    "# Create a DataFrame \n",
    "# HINT: You will need to use the 'Data' key from the json response, then transpose the DataFrame.\n",
    "response_data = requests.get(url)\n",
    "\n",
    "# Get content\n",
    "response_content = response_data.content\n",
    "\n",
    "import json\n",
    "\n",
    "# Formatting as json\n",
    "data = response_data.json()\n",
    "\n",
    "# Add indents to JSON and output to screen\n",
    "# print(json.dumps(data, indent=4))\n",
    "\n",
    "# Create a Dataframe\n",
    "df = pd.DataFrame(data['Data'])\n",
    "\n",
    "# Transpose DF\n",
    "crypto_df = df.T\n",
    "crypto_df.head()"
   ]
  },
  {
   "cell_type": "code",
   "execution_count": 40,
   "metadata": {},
   "outputs": [],
   "source": [
    "# Alternatively, use the provided csv file:\n",
    "# file_path = Path(\"Resources/crypto_data.csv\")\n",
    "\n",
    "# Create a DataFrame"
   ]
  },
  {
   "cell_type": "markdown",
   "metadata": {},
   "source": [
    "### Data Preprocessing"
   ]
  },
  {
   "cell_type": "code",
   "execution_count": 41,
   "metadata": {},
   "outputs": [
    {
     "data": {
      "text/plain": [
       "Index(['Algorithm', 'AssetLaunchDate', 'AssetTokenStatus', 'BlockNumber',\n",
       "       'BlockReward', 'BlockTime', 'BuiltOn', 'CoinName', 'ContentCreatedOn',\n",
       "       'DecimalPoints', 'Description', 'Difficulty', 'FullName', 'Id',\n",
       "       'ImageUrl', 'IsTrading', 'IsUsedInDefi', 'IsUsedInNft', 'MaxSupply',\n",
       "       'MktCapPenalty', 'Name', 'NetHashesPerSecond', 'PlatformType',\n",
       "       'ProofType', 'Rating', 'SmartContractAddress', 'SortOrder', 'Sponsored',\n",
       "       'Symbol', 'Taxonomy', 'TotalCoinsMined', 'Url'],\n",
       "      dtype='object')"
      ]
     },
     "execution_count": 41,
     "metadata": {},
     "output_type": "execute_result"
    }
   ],
   "source": [
    "crypto_df.columns"
   ]
  },
  {
   "cell_type": "code",
   "execution_count": 42,
   "metadata": {},
   "outputs": [
    {
     "data": {
      "text/plain": [
       "(6303, 6)"
      ]
     },
     "execution_count": 42,
     "metadata": {},
     "output_type": "execute_result"
    }
   ],
   "source": [
    "# Keep only necessary columns:\n",
    "# 'CoinName','Algorithm','IsTrading','ProofType','TotalCoinsMined','TotalCoinSupply'\n",
    "c_df = crypto_df[['CoinName','Algorithm','IsTrading','ProofType','TotalCoinsMined','MaxSupply']]\n",
    "c_df['MaxSupply'].count()\n",
    "c_df.shape"
   ]
  },
  {
   "cell_type": "code",
   "execution_count": 43,
   "metadata": {},
   "outputs": [
    {
     "data": {
      "text/plain": [
       "(5024, 6)"
      ]
     },
     "execution_count": 43,
     "metadata": {},
     "output_type": "execute_result"
    }
   ],
   "source": [
    "# Keep only cryptocurrencies that are trading\n",
    "cr_df = c_df[c_df.IsTrading == True]\n",
    "cr_df.shape"
   ]
  },
  {
   "cell_type": "code",
   "execution_count": 44,
   "metadata": {},
   "outputs": [
    {
     "data": {
      "text/html": [
       "<div>\n",
       "<style scoped>\n",
       "    .dataframe tbody tr th:only-of-type {\n",
       "        vertical-align: middle;\n",
       "    }\n",
       "\n",
       "    .dataframe tbody tr th {\n",
       "        vertical-align: top;\n",
       "    }\n",
       "\n",
       "    .dataframe thead th {\n",
       "        text-align: right;\n",
       "    }\n",
       "</style>\n",
       "<table border=\"1\" class=\"dataframe\">\n",
       "  <thead>\n",
       "    <tr style=\"text-align: right;\">\n",
       "      <th></th>\n",
       "      <th>CoinName</th>\n",
       "      <th>Algorithm</th>\n",
       "      <th>IsTrading</th>\n",
       "      <th>ProofType</th>\n",
       "      <th>TotalCoinsMined</th>\n",
       "      <th>MaxSupply</th>\n",
       "    </tr>\n",
       "  </thead>\n",
       "  <tbody>\n",
       "    <tr>\n",
       "      <th>42</th>\n",
       "      <td>42 Coin</td>\n",
       "      <td>Scrypt</td>\n",
       "      <td>True</td>\n",
       "      <td>PoW/PoS</td>\n",
       "      <td>0</td>\n",
       "      <td>0</td>\n",
       "    </tr>\n",
       "    <tr>\n",
       "      <th>365</th>\n",
       "      <td>365Coin</td>\n",
       "      <td>X11</td>\n",
       "      <td>True</td>\n",
       "      <td>PoW/PoS</td>\n",
       "      <td>0</td>\n",
       "      <td>0</td>\n",
       "    </tr>\n",
       "    <tr>\n",
       "      <th>404</th>\n",
       "      <td>404Coin</td>\n",
       "      <td>Scrypt</td>\n",
       "      <td>True</td>\n",
       "      <td>PoW/PoS</td>\n",
       "      <td>0</td>\n",
       "      <td>0</td>\n",
       "    </tr>\n",
       "    <tr>\n",
       "      <th>611</th>\n",
       "      <td>SixEleven</td>\n",
       "      <td>SHA-256</td>\n",
       "      <td>True</td>\n",
       "      <td>PoW</td>\n",
       "      <td>0</td>\n",
       "      <td>0</td>\n",
       "    </tr>\n",
       "    <tr>\n",
       "      <th>808</th>\n",
       "      <td>808</td>\n",
       "      <td>SHA-256</td>\n",
       "      <td>True</td>\n",
       "      <td>PoW/PoS</td>\n",
       "      <td>0</td>\n",
       "      <td>0</td>\n",
       "    </tr>\n",
       "    <tr>\n",
       "      <th>1337</th>\n",
       "      <td>EliteCoin</td>\n",
       "      <td>X13</td>\n",
       "      <td>True</td>\n",
       "      <td>PoW/PoS</td>\n",
       "      <td>0</td>\n",
       "      <td>0</td>\n",
       "    </tr>\n",
       "    <tr>\n",
       "      <th>2015</th>\n",
       "      <td>2015 coin</td>\n",
       "      <td>X11</td>\n",
       "      <td>True</td>\n",
       "      <td>PoW/PoS</td>\n",
       "      <td>0</td>\n",
       "      <td>0</td>\n",
       "    </tr>\n",
       "    <tr>\n",
       "      <th>BTCD</th>\n",
       "      <td>BitcoinDark</td>\n",
       "      <td>SHA-256</td>\n",
       "      <td>True</td>\n",
       "      <td>PoW/PoS</td>\n",
       "      <td>NaN</td>\n",
       "      <td>NaN</td>\n",
       "    </tr>\n",
       "    <tr>\n",
       "      <th>CRAIG</th>\n",
       "      <td>CraigsCoin</td>\n",
       "      <td>X11</td>\n",
       "      <td>True</td>\n",
       "      <td>PoS</td>\n",
       "      <td>NaN</td>\n",
       "      <td>NaN</td>\n",
       "    </tr>\n",
       "    <tr>\n",
       "      <th>XBS</th>\n",
       "      <td>Bitstake</td>\n",
       "      <td>X11</td>\n",
       "      <td>True</td>\n",
       "      <td>PoW/PoS</td>\n",
       "      <td>NaN</td>\n",
       "      <td>NaN</td>\n",
       "    </tr>\n",
       "    <tr>\n",
       "      <th>XPY</th>\n",
       "      <td>PayCoin</td>\n",
       "      <td>SHA-256</td>\n",
       "      <td>True</td>\n",
       "      <td>PoS</td>\n",
       "      <td>NaN</td>\n",
       "      <td>NaN</td>\n",
       "    </tr>\n",
       "    <tr>\n",
       "      <th>PRC</th>\n",
       "      <td>ProsperCoin</td>\n",
       "      <td>Scrypt</td>\n",
       "      <td>True</td>\n",
       "      <td>PoW</td>\n",
       "      <td>NaN</td>\n",
       "      <td>NaN</td>\n",
       "    </tr>\n",
       "    <tr>\n",
       "      <th>YBC</th>\n",
       "      <td>YbCoin</td>\n",
       "      <td>Multiple</td>\n",
       "      <td>True</td>\n",
       "      <td>PoS</td>\n",
       "      <td>NaN</td>\n",
       "      <td>NaN</td>\n",
       "    </tr>\n",
       "    <tr>\n",
       "      <th>DANK</th>\n",
       "      <td>DarkKush</td>\n",
       "      <td>X13</td>\n",
       "      <td>True</td>\n",
       "      <td>PoW/PoS</td>\n",
       "      <td>NaN</td>\n",
       "      <td>NaN</td>\n",
       "    </tr>\n",
       "    <tr>\n",
       "      <th>GIVE</th>\n",
       "      <td>GiveCoin</td>\n",
       "      <td>X11</td>\n",
       "      <td>True</td>\n",
       "      <td>PoW</td>\n",
       "      <td>NaN</td>\n",
       "      <td>NaN</td>\n",
       "    </tr>\n",
       "    <tr>\n",
       "      <th>KOBO</th>\n",
       "      <td>KoboCoin</td>\n",
       "      <td>X15</td>\n",
       "      <td>True</td>\n",
       "      <td>PoW/PoS</td>\n",
       "      <td>NaN</td>\n",
       "      <td>NaN</td>\n",
       "    </tr>\n",
       "    <tr>\n",
       "      <th>DT</th>\n",
       "      <td>DarkToken</td>\n",
       "      <td>NIST5</td>\n",
       "      <td>True</td>\n",
       "      <td>PoW/PoS</td>\n",
       "      <td>NaN</td>\n",
       "      <td>NaN</td>\n",
       "    </tr>\n",
       "    <tr>\n",
       "      <th>CETI</th>\n",
       "      <td>CETUS Coin</td>\n",
       "      <td>Scrypt</td>\n",
       "      <td>True</td>\n",
       "      <td>PoW/PoS</td>\n",
       "      <td>NaN</td>\n",
       "      <td>NaN</td>\n",
       "    </tr>\n",
       "    <tr>\n",
       "      <th>XPD</th>\n",
       "      <td>PetroDollar</td>\n",
       "      <td>SHA-256D</td>\n",
       "      <td>True</td>\n",
       "      <td>N/A</td>\n",
       "      <td>NaN</td>\n",
       "      <td>NaN</td>\n",
       "    </tr>\n",
       "    <tr>\n",
       "      <th>WOLF</th>\n",
       "      <td>Insanity Coin</td>\n",
       "      <td>X11</td>\n",
       "      <td>True</td>\n",
       "      <td>PoW</td>\n",
       "      <td>NaN</td>\n",
       "      <td>NaN</td>\n",
       "    </tr>\n",
       "    <tr>\n",
       "      <th>AC</th>\n",
       "      <td>Asia Coin</td>\n",
       "      <td>Scrypt</td>\n",
       "      <td>True</td>\n",
       "      <td>PoS</td>\n",
       "      <td>NaN</td>\n",
       "      <td>NaN</td>\n",
       "    </tr>\n",
       "    <tr>\n",
       "      <th>ACOIN</th>\n",
       "      <td>ACoin</td>\n",
       "      <td>SHA-256</td>\n",
       "      <td>True</td>\n",
       "      <td>PoW</td>\n",
       "      <td>0</td>\n",
       "      <td>0</td>\n",
       "    </tr>\n",
       "    <tr>\n",
       "      <th>AERO</th>\n",
       "      <td>Aero Coin</td>\n",
       "      <td>X13</td>\n",
       "      <td>True</td>\n",
       "      <td>PoS</td>\n",
       "      <td>NaN</td>\n",
       "      <td>NaN</td>\n",
       "    </tr>\n",
       "    <tr>\n",
       "      <th>ALF</th>\n",
       "      <td>AlphaCoin</td>\n",
       "      <td>Scrypt</td>\n",
       "      <td>True</td>\n",
       "      <td>PoW</td>\n",
       "      <td>NaN</td>\n",
       "      <td>NaN</td>\n",
       "    </tr>\n",
       "    <tr>\n",
       "      <th>AMC</th>\n",
       "      <td>AmericanCoin</td>\n",
       "      <td>Scrypt</td>\n",
       "      <td>True</td>\n",
       "      <td>PoW</td>\n",
       "      <td>NaN</td>\n",
       "      <td>NaN</td>\n",
       "    </tr>\n",
       "  </tbody>\n",
       "</table>\n",
       "</div>"
      ],
      "text/plain": [
       "            CoinName Algorithm IsTrading ProofType TotalCoinsMined MaxSupply\n",
       "42           42 Coin    Scrypt      True   PoW/PoS               0         0\n",
       "365          365Coin       X11      True   PoW/PoS               0         0\n",
       "404          404Coin    Scrypt      True   PoW/PoS               0         0\n",
       "611        SixEleven   SHA-256      True       PoW               0         0\n",
       "808              808   SHA-256      True   PoW/PoS               0         0\n",
       "1337       EliteCoin       X13      True   PoW/PoS               0         0\n",
       "2015       2015 coin       X11      True   PoW/PoS               0         0\n",
       "BTCD     BitcoinDark   SHA-256      True   PoW/PoS             NaN       NaN\n",
       "CRAIG     CraigsCoin       X11      True       PoS             NaN       NaN\n",
       "XBS         Bitstake       X11      True   PoW/PoS             NaN       NaN\n",
       "XPY          PayCoin   SHA-256      True       PoS             NaN       NaN\n",
       "PRC      ProsperCoin    Scrypt      True       PoW             NaN       NaN\n",
       "YBC           YbCoin  Multiple      True       PoS             NaN       NaN\n",
       "DANK        DarkKush       X13      True   PoW/PoS             NaN       NaN\n",
       "GIVE        GiveCoin       X11      True       PoW             NaN       NaN\n",
       "KOBO        KoboCoin       X15      True   PoW/PoS             NaN       NaN\n",
       "DT         DarkToken     NIST5      True   PoW/PoS             NaN       NaN\n",
       "CETI      CETUS Coin    Scrypt      True   PoW/PoS             NaN       NaN\n",
       "XPD      PetroDollar  SHA-256D      True       N/A             NaN       NaN\n",
       "WOLF   Insanity Coin       X11      True       PoW             NaN       NaN\n",
       "AC         Asia Coin    Scrypt      True       PoS             NaN       NaN\n",
       "ACOIN          ACoin   SHA-256      True       PoW               0         0\n",
       "AERO       Aero Coin       X13      True       PoS             NaN       NaN\n",
       "ALF        AlphaCoin    Scrypt      True       PoW             NaN       NaN\n",
       "AMC     AmericanCoin    Scrypt      True       PoW             NaN       NaN"
      ]
     },
     "execution_count": 44,
     "metadata": {},
     "output_type": "execute_result"
    }
   ],
   "source": [
    "# Keep only cryptocurrencies with a working algorithm\n",
    "cry_df = cr_df[cr_df.Algorithm != 'N/A']\n",
    "cry_df.head(25)"
   ]
  },
  {
   "cell_type": "code",
   "execution_count": 45,
   "metadata": {},
   "outputs": [
    {
     "name": "stderr",
     "output_type": "stream",
     "text": [
      "/opt/anaconda3/envs/pyvizenv/lib/python3.7/site-packages/pandas/core/frame.py:3940: SettingWithCopyWarning:\n",
      "\n",
      "\n",
      "A value is trying to be set on a copy of a slice from a DataFrame\n",
      "\n",
      "See the caveats in the documentation: http://pandas.pydata.org/pandas-docs/stable/indexing.html#indexing-view-versus-copy\n",
      "\n"
     ]
    },
    {
     "data": {
      "text/plain": [
       "(1487, 5)"
      ]
     },
     "execution_count": 45,
     "metadata": {},
     "output_type": "execute_result"
    }
   ],
   "source": [
    "# Remove the \"IsTrading\" column\n",
    "cry_df.drop(['IsTrading'], axis=1, inplace=True)\n",
    "cry_df.shape"
   ]
  },
  {
   "cell_type": "code",
   "execution_count": 46,
   "metadata": {},
   "outputs": [
    {
     "name": "stderr",
     "output_type": "stream",
     "text": [
      "/opt/anaconda3/envs/pyvizenv/lib/python3.7/site-packages/ipykernel_launcher.py:2: SettingWithCopyWarning:\n",
      "\n",
      "\n",
      "A value is trying to be set on a copy of a slice from a DataFrame\n",
      "\n",
      "See the caveats in the documentation: http://pandas.pydata.org/pandas-docs/stable/indexing.html#indexing-view-versus-copy\n",
      "\n"
     ]
    },
    {
     "data": {
      "text/plain": [
       "(279, 5)"
      ]
     },
     "execution_count": 46,
     "metadata": {},
     "output_type": "execute_result"
    }
   ],
   "source": [
    "# Remove rows with at least 1 null value\n",
    "cry_df.dropna(inplace=True)\n",
    "cry_df.shape"
   ]
  },
  {
   "cell_type": "code",
   "execution_count": 47,
   "metadata": {},
   "outputs": [
    {
     "data": {
      "text/plain": [
       "(136, 5)"
      ]
     },
     "execution_count": 47,
     "metadata": {},
     "output_type": "execute_result"
    }
   ],
   "source": [
    "# Remove rows with cryptocurrencies having no coins mined\n",
    "cryp_df = cry_df[cry_df.TotalCoinsMined > 0]\n",
    "cryp_df.shape"
   ]
  },
  {
   "cell_type": "code",
   "execution_count": 48,
   "metadata": {},
   "outputs": [
    {
     "data": {
      "text/plain": [
       "(136, 5)"
      ]
     },
     "execution_count": 48,
     "metadata": {},
     "output_type": "execute_result"
    }
   ],
   "source": [
    "# Remove rows with 'N/A' values\n",
    "crypt_df = cryp_df[cryp_df != 'N/A']\n",
    "crypt_df.shape"
   ]
  },
  {
   "cell_type": "code",
   "execution_count": 49,
   "metadata": {},
   "outputs": [
    {
     "data": {
      "text/plain": [
       "(118, 5)"
      ]
     },
     "execution_count": 49,
     "metadata": {},
     "output_type": "execute_result"
    }
   ],
   "source": [
    "# Remove rows with at least 1 null value - AGAIN SINCE NULL VALUES RE_EMERGE\n",
    "crypt_df.dropna(inplace=True)\n",
    "crypt_df.shape"
   ]
  },
  {
   "cell_type": "code",
   "execution_count": 50,
   "metadata": {},
   "outputs": [
    {
     "data": {
      "text/plain": [
       "NVC           NovaCoin\n",
       "XCP       CounterParty\n",
       "NSR           NuShares\n",
       "MONA          MonaCoin\n",
       "TRI     Triangles Coin\n",
       "Name: CoinName, dtype: object"
      ]
     },
     "execution_count": 50,
     "metadata": {},
     "output_type": "execute_result"
    }
   ],
   "source": [
    "# Store the 'CoinName'column in its own DataFrame prior to dropping it from crypto_df\n",
    "coins_name_df = crypt_df['CoinName']\n",
    "coins_name_df.head()"
   ]
  },
  {
   "cell_type": "code",
   "execution_count": 51,
   "metadata": {},
   "outputs": [],
   "source": [
    "# Drop the 'CoinName' column since it's not going to be used on the clustering algorithm\n",
    "crypt_df.drop(['CoinName'], axis=1, inplace=True)"
   ]
  },
  {
   "cell_type": "code",
   "execution_count": 52,
   "metadata": {},
   "outputs": [
    {
     "data": {
      "text/html": [
       "<div>\n",
       "<style scoped>\n",
       "    .dataframe tbody tr th:only-of-type {\n",
       "        vertical-align: middle;\n",
       "    }\n",
       "\n",
       "    .dataframe tbody tr th {\n",
       "        vertical-align: top;\n",
       "    }\n",
       "\n",
       "    .dataframe thead th {\n",
       "        text-align: right;\n",
       "    }\n",
       "</style>\n",
       "<table border=\"1\" class=\"dataframe\">\n",
       "  <thead>\n",
       "    <tr style=\"text-align: right;\">\n",
       "      <th></th>\n",
       "      <th>Algorithm</th>\n",
       "      <th>ProofType</th>\n",
       "      <th>TotalCoinsMined</th>\n",
       "      <th>MaxSupply</th>\n",
       "    </tr>\n",
       "  </thead>\n",
       "  <tbody>\n",
       "    <tr>\n",
       "      <th>NVC</th>\n",
       "      <td>Scrypt</td>\n",
       "      <td>PoW/PoS</td>\n",
       "      <td>3196718.50</td>\n",
       "      <td>-1</td>\n",
       "    </tr>\n",
       "    <tr>\n",
       "      <th>XCP</th>\n",
       "      <td>SHA-256</td>\n",
       "      <td>PoW</td>\n",
       "      <td>2615081.35</td>\n",
       "      <td>-1</td>\n",
       "    </tr>\n",
       "    <tr>\n",
       "      <th>NSR</th>\n",
       "      <td>PoS</td>\n",
       "      <td>PoS</td>\n",
       "      <td>5855759270.07</td>\n",
       "      <td>0</td>\n",
       "    </tr>\n",
       "    <tr>\n",
       "      <th>MONA</th>\n",
       "      <td>Scrypt</td>\n",
       "      <td>PoW</td>\n",
       "      <td>81167037.47</td>\n",
       "      <td>-1</td>\n",
       "    </tr>\n",
       "    <tr>\n",
       "      <th>TRI</th>\n",
       "      <td>X13</td>\n",
       "      <td>PoW/PoS</td>\n",
       "      <td>175041.49</td>\n",
       "      <td>0</td>\n",
       "    </tr>\n",
       "    <tr>\n",
       "      <th>EMC</th>\n",
       "      <td>SHA-256</td>\n",
       "      <td>PoW/PoS</td>\n",
       "      <td>47209766.01</td>\n",
       "      <td>-1</td>\n",
       "    </tr>\n",
       "    <tr>\n",
       "      <th>SAFEX</th>\n",
       "      <td>Scrypt</td>\n",
       "      <td>PoC</td>\n",
       "      <td>2147483647</td>\n",
       "      <td>-1</td>\n",
       "    </tr>\n",
       "    <tr>\n",
       "      <th>CMTC</th>\n",
       "      <td>Scrypt</td>\n",
       "      <td>PoW</td>\n",
       "      <td>872830</td>\n",
       "      <td>0</td>\n",
       "    </tr>\n",
       "    <tr>\n",
       "      <th>XSN</th>\n",
       "      <td>X11</td>\n",
       "      <td>TPoS</td>\n",
       "      <td>118875584.01</td>\n",
       "      <td>-1</td>\n",
       "    </tr>\n",
       "    <tr>\n",
       "      <th>CHAT</th>\n",
       "      <td>Scrypt</td>\n",
       "      <td>PoW/PoS</td>\n",
       "      <td>1000000000</td>\n",
       "      <td>-1</td>\n",
       "    </tr>\n",
       "    <tr>\n",
       "      <th>QRL</th>\n",
       "      <td>RandomX</td>\n",
       "      <td>PoW</td>\n",
       "      <td>73632027.50</td>\n",
       "      <td>105000000</td>\n",
       "    </tr>\n",
       "    <tr>\n",
       "      <th>AMB</th>\n",
       "      <td>Dagger</td>\n",
       "      <td>PoA</td>\n",
       "      <td>697804034</td>\n",
       "      <td>-1</td>\n",
       "    </tr>\n",
       "    <tr>\n",
       "      <th>BTCZ</th>\n",
       "      <td>Equihash</td>\n",
       "      <td>PoW</td>\n",
       "      <td>9105284554.63</td>\n",
       "      <td>21000000000</td>\n",
       "    </tr>\n",
       "    <tr>\n",
       "      <th>PURA</th>\n",
       "      <td>X11</td>\n",
       "      <td>PoW</td>\n",
       "      <td>188358976.84</td>\n",
       "      <td>-1</td>\n",
       "    </tr>\n",
       "    <tr>\n",
       "      <th>UBTC</th>\n",
       "      <td>SHA-256</td>\n",
       "      <td>PoW</td>\n",
       "      <td>21000000</td>\n",
       "      <td>21000000</td>\n",
       "    </tr>\n",
       "    <tr>\n",
       "      <th>BTCP</th>\n",
       "      <td>Equihash</td>\n",
       "      <td>PoW</td>\n",
       "      <td>3818878.39</td>\n",
       "      <td>22873588</td>\n",
       "    </tr>\n",
       "    <tr>\n",
       "      <th>CLO</th>\n",
       "      <td>Ethash</td>\n",
       "      <td>PoW</td>\n",
       "      <td>2937657712.95</td>\n",
       "      <td>6500000000</td>\n",
       "    </tr>\n",
       "    <tr>\n",
       "      <th>ADK</th>\n",
       "      <td>IMesh</td>\n",
       "      <td>PoW</td>\n",
       "      <td>25000000</td>\n",
       "      <td>0</td>\n",
       "    </tr>\n",
       "    <tr>\n",
       "      <th>ZEL</th>\n",
       "      <td>Equihash</td>\n",
       "      <td>PoW/PoS</td>\n",
       "      <td>440000000</td>\n",
       "      <td>210000000</td>\n",
       "    </tr>\n",
       "    <tr>\n",
       "      <th>KCASH</th>\n",
       "      <td>SHA-512</td>\n",
       "      <td>Zero-Knowledge Proof</td>\n",
       "      <td>1000000000</td>\n",
       "      <td>-1</td>\n",
       "    </tr>\n",
       "    <tr>\n",
       "      <th>DAPS</th>\n",
       "      <td>Dagger</td>\n",
       "      <td>PoW/PoS/PoA</td>\n",
       "      <td>62298612600</td>\n",
       "      <td>70000000000</td>\n",
       "    </tr>\n",
       "    <tr>\n",
       "      <th>BEAM</th>\n",
       "      <td>Equihash</td>\n",
       "      <td>PoW</td>\n",
       "      <td>67902952.60</td>\n",
       "      <td>262800000</td>\n",
       "    </tr>\n",
       "    <tr>\n",
       "      <th>BTH</th>\n",
       "      <td>Equihash</td>\n",
       "      <td>PoW</td>\n",
       "      <td>30886000</td>\n",
       "      <td>0</td>\n",
       "    </tr>\n",
       "    <tr>\n",
       "      <th>VSYS</th>\n",
       "      <td>SPoS</td>\n",
       "      <td>SPoS</td>\n",
       "      <td>5802802827</td>\n",
       "      <td>-1</td>\n",
       "    </tr>\n",
       "    <tr>\n",
       "      <th>BDX</th>\n",
       "      <td>CryptoNight</td>\n",
       "      <td>PoW</td>\n",
       "      <td>1400222610</td>\n",
       "      <td>-1</td>\n",
       "    </tr>\n",
       "  </tbody>\n",
       "</table>\n",
       "</div>"
      ],
      "text/plain": [
       "         Algorithm             ProofType TotalCoinsMined    MaxSupply\n",
       "NVC         Scrypt               PoW/PoS      3196718.50           -1\n",
       "XCP        SHA-256                   PoW      2615081.35           -1\n",
       "NSR            PoS                   PoS   5855759270.07            0\n",
       "MONA        Scrypt                   PoW     81167037.47           -1\n",
       "TRI            X13               PoW/PoS       175041.49            0\n",
       "EMC        SHA-256               PoW/PoS     47209766.01           -1\n",
       "SAFEX       Scrypt                   PoC      2147483647           -1\n",
       "CMTC        Scrypt                   PoW          872830            0\n",
       "XSN            X11                  TPoS    118875584.01           -1\n",
       "CHAT        Scrypt               PoW/PoS      1000000000           -1\n",
       "QRL        RandomX                   PoW     73632027.50    105000000\n",
       "AMB         Dagger                   PoA       697804034           -1\n",
       "BTCZ      Equihash                   PoW   9105284554.63  21000000000\n",
       "PURA           X11                   PoW    188358976.84           -1\n",
       "UBTC       SHA-256                   PoW        21000000     21000000\n",
       "BTCP      Equihash                   PoW      3818878.39     22873588\n",
       "CLO         Ethash                   PoW   2937657712.95   6500000000\n",
       "ADK          IMesh                   PoW        25000000            0\n",
       "ZEL       Equihash               PoW/PoS       440000000    210000000\n",
       "KCASH      SHA-512  Zero-Knowledge Proof      1000000000           -1\n",
       "DAPS        Dagger           PoW/PoS/PoA     62298612600  70000000000\n",
       "BEAM      Equihash                   PoW     67902952.60    262800000\n",
       "BTH       Equihash                   PoW        30886000            0\n",
       "VSYS          SPoS                  SPoS      5802802827           -1\n",
       "BDX    CryptoNight                   PoW      1400222610           -1"
      ]
     },
     "execution_count": 52,
     "metadata": {},
     "output_type": "execute_result"
    }
   ],
   "source": [
    "crypt_df.head(25)"
   ]
  },
  {
   "cell_type": "code",
   "execution_count": 53,
   "metadata": {},
   "outputs": [
    {
     "data": {
      "text/html": [
       "<div>\n",
       "<style scoped>\n",
       "    .dataframe tbody tr th:only-of-type {\n",
       "        vertical-align: middle;\n",
       "    }\n",
       "\n",
       "    .dataframe tbody tr th {\n",
       "        vertical-align: top;\n",
       "    }\n",
       "\n",
       "    .dataframe thead th {\n",
       "        text-align: right;\n",
       "    }\n",
       "</style>\n",
       "<table border=\"1\" class=\"dataframe\">\n",
       "  <thead>\n",
       "    <tr style=\"text-align: right;\">\n",
       "      <th></th>\n",
       "      <th>TotalCoinsMined</th>\n",
       "      <th>MaxSupply</th>\n",
       "      <th>Algorithm_BEP-2</th>\n",
       "      <th>Algorithm_BLAKE256</th>\n",
       "      <th>Algorithm_BMW512 / Echo512</th>\n",
       "      <th>Algorithm_Blake2B + SHA3</th>\n",
       "      <th>Algorithm_Blake2b</th>\n",
       "      <th>Algorithm_C31</th>\n",
       "      <th>Algorithm_CryptoNight</th>\n",
       "      <th>Algorithm_CryptoNight-Heavy</th>\n",
       "      <th>...</th>\n",
       "      <th>ProofType_PoW</th>\n",
       "      <th>ProofType_PoW/PoS</th>\n",
       "      <th>ProofType_PoW/PoSe</th>\n",
       "      <th>ProofType_PoW/nPoS</th>\n",
       "      <th>ProofType_Proof of Authority</th>\n",
       "      <th>ProofType_SPoS</th>\n",
       "      <th>ProofType_TPoS</th>\n",
       "      <th>ProofType_Zero-Knowledge Proof</th>\n",
       "      <th>ProofType_dPoW/PoW</th>\n",
       "      <th>ProofType_mPoW</th>\n",
       "    </tr>\n",
       "  </thead>\n",
       "  <tbody>\n",
       "    <tr>\n",
       "      <th>NVC</th>\n",
       "      <td>3196718.50</td>\n",
       "      <td>-1</td>\n",
       "      <td>0</td>\n",
       "      <td>0</td>\n",
       "      <td>0</td>\n",
       "      <td>0</td>\n",
       "      <td>0</td>\n",
       "      <td>0</td>\n",
       "      <td>0</td>\n",
       "      <td>0</td>\n",
       "      <td>...</td>\n",
       "      <td>0</td>\n",
       "      <td>1</td>\n",
       "      <td>0</td>\n",
       "      <td>0</td>\n",
       "      <td>0</td>\n",
       "      <td>0</td>\n",
       "      <td>0</td>\n",
       "      <td>0</td>\n",
       "      <td>0</td>\n",
       "      <td>0</td>\n",
       "    </tr>\n",
       "    <tr>\n",
       "      <th>XCP</th>\n",
       "      <td>2615081.35</td>\n",
       "      <td>-1</td>\n",
       "      <td>0</td>\n",
       "      <td>0</td>\n",
       "      <td>0</td>\n",
       "      <td>0</td>\n",
       "      <td>0</td>\n",
       "      <td>0</td>\n",
       "      <td>0</td>\n",
       "      <td>0</td>\n",
       "      <td>...</td>\n",
       "      <td>1</td>\n",
       "      <td>0</td>\n",
       "      <td>0</td>\n",
       "      <td>0</td>\n",
       "      <td>0</td>\n",
       "      <td>0</td>\n",
       "      <td>0</td>\n",
       "      <td>0</td>\n",
       "      <td>0</td>\n",
       "      <td>0</td>\n",
       "    </tr>\n",
       "    <tr>\n",
       "      <th>NSR</th>\n",
       "      <td>5855759270.07</td>\n",
       "      <td>0</td>\n",
       "      <td>0</td>\n",
       "      <td>0</td>\n",
       "      <td>0</td>\n",
       "      <td>0</td>\n",
       "      <td>0</td>\n",
       "      <td>0</td>\n",
       "      <td>0</td>\n",
       "      <td>0</td>\n",
       "      <td>...</td>\n",
       "      <td>0</td>\n",
       "      <td>0</td>\n",
       "      <td>0</td>\n",
       "      <td>0</td>\n",
       "      <td>0</td>\n",
       "      <td>0</td>\n",
       "      <td>0</td>\n",
       "      <td>0</td>\n",
       "      <td>0</td>\n",
       "      <td>0</td>\n",
       "    </tr>\n",
       "    <tr>\n",
       "      <th>MONA</th>\n",
       "      <td>81167037.47</td>\n",
       "      <td>-1</td>\n",
       "      <td>0</td>\n",
       "      <td>0</td>\n",
       "      <td>0</td>\n",
       "      <td>0</td>\n",
       "      <td>0</td>\n",
       "      <td>0</td>\n",
       "      <td>0</td>\n",
       "      <td>0</td>\n",
       "      <td>...</td>\n",
       "      <td>1</td>\n",
       "      <td>0</td>\n",
       "      <td>0</td>\n",
       "      <td>0</td>\n",
       "      <td>0</td>\n",
       "      <td>0</td>\n",
       "      <td>0</td>\n",
       "      <td>0</td>\n",
       "      <td>0</td>\n",
       "      <td>0</td>\n",
       "    </tr>\n",
       "    <tr>\n",
       "      <th>TRI</th>\n",
       "      <td>175041.49</td>\n",
       "      <td>0</td>\n",
       "      <td>0</td>\n",
       "      <td>0</td>\n",
       "      <td>0</td>\n",
       "      <td>0</td>\n",
       "      <td>0</td>\n",
       "      <td>0</td>\n",
       "      <td>0</td>\n",
       "      <td>0</td>\n",
       "      <td>...</td>\n",
       "      <td>0</td>\n",
       "      <td>1</td>\n",
       "      <td>0</td>\n",
       "      <td>0</td>\n",
       "      <td>0</td>\n",
       "      <td>0</td>\n",
       "      <td>0</td>\n",
       "      <td>0</td>\n",
       "      <td>0</td>\n",
       "      <td>0</td>\n",
       "    </tr>\n",
       "  </tbody>\n",
       "</table>\n",
       "<p>5 rows × 72 columns</p>\n",
       "</div>"
      ],
      "text/plain": [
       "     TotalCoinsMined MaxSupply  Algorithm_BEP-2  Algorithm_BLAKE256  \\\n",
       "NVC       3196718.50        -1                0                   0   \n",
       "XCP       2615081.35        -1                0                   0   \n",
       "NSR    5855759270.07         0                0                   0   \n",
       "MONA     81167037.47        -1                0                   0   \n",
       "TRI        175041.49         0                0                   0   \n",
       "\n",
       "      Algorithm_BMW512 / Echo512  Algorithm_Blake2B + SHA3  Algorithm_Blake2b  \\\n",
       "NVC                            0                         0                  0   \n",
       "XCP                            0                         0                  0   \n",
       "NSR                            0                         0                  0   \n",
       "MONA                           0                         0                  0   \n",
       "TRI                            0                         0                  0   \n",
       "\n",
       "      Algorithm_C31  Algorithm_CryptoNight  Algorithm_CryptoNight-Heavy  ...  \\\n",
       "NVC               0                      0                            0  ...   \n",
       "XCP               0                      0                            0  ...   \n",
       "NSR               0                      0                            0  ...   \n",
       "MONA              0                      0                            0  ...   \n",
       "TRI               0                      0                            0  ...   \n",
       "\n",
       "      ProofType_PoW  ProofType_PoW/PoS  ProofType_PoW/PoSe  \\\n",
       "NVC               0                  1                   0   \n",
       "XCP               1                  0                   0   \n",
       "NSR               0                  0                   0   \n",
       "MONA              1                  0                   0   \n",
       "TRI               0                  1                   0   \n",
       "\n",
       "      ProofType_PoW/nPoS  ProofType_Proof of Authority  ProofType_SPoS  \\\n",
       "NVC                    0                             0               0   \n",
       "XCP                    0                             0               0   \n",
       "NSR                    0                             0               0   \n",
       "MONA                   0                             0               0   \n",
       "TRI                    0                             0               0   \n",
       "\n",
       "      ProofType_TPoS  ProofType_Zero-Knowledge Proof  ProofType_dPoW/PoW  \\\n",
       "NVC                0                               0                   0   \n",
       "XCP                0                               0                   0   \n",
       "NSR                0                               0                   0   \n",
       "MONA               0                               0                   0   \n",
       "TRI                0                               0                   0   \n",
       "\n",
       "      ProofType_mPoW  \n",
       "NVC                0  \n",
       "XCP                0  \n",
       "NSR                0  \n",
       "MONA               0  \n",
       "TRI                0  \n",
       "\n",
       "[5 rows x 72 columns]"
      ]
     },
     "execution_count": 53,
     "metadata": {},
     "output_type": "execute_result"
    }
   ],
   "source": [
    "# Create dummy variables for text features\n",
    "X = pd.get_dummies(crypt_df, columns=['Algorithm', 'ProofType'])\n",
    "X.head()"
   ]
  },
  {
   "cell_type": "code",
   "execution_count": 54,
   "metadata": {},
   "outputs": [
    {
     "data": {
      "text/plain": [
       "array([[-0.17595763, -0.13641368, -0.09245003, -0.13130643, -0.09245003,\n",
       "        -0.09245003, -0.13130643, -0.13130643, -0.13130643, -0.09245003,\n",
       "        -0.09245003, -0.2511236 , -0.13130643, -0.09245003, -0.09245003,\n",
       "        -0.09245003, -0.30429031, -0.09245003, -0.21035158, -0.09245003,\n",
       "        -0.09245003, -0.13130643, -0.09245003, -0.09245003, -0.09245003,\n",
       "        -0.09245003, -0.09245003, -0.16151457, -0.09245003, -0.09245003,\n",
       "        -0.13130643, -0.16151457, -0.09245003, -0.16151457, -0.13130643,\n",
       "        -0.33646329, -0.13130643, -0.09245003, -0.09245003, -0.09245003,\n",
       "         2.3570226 , -0.09245003, -0.09245003, -0.09245003, -0.09245003,\n",
       "        -0.09245003, -0.18731716, -0.09245003, -0.21035158, -0.09245003,\n",
       "        -0.09245003, -0.09245003, -0.09245003, -0.26967994, -0.09245003,\n",
       "        -0.09245003, -0.13130643, -0.13130643, -0.09245003, -0.28734789,\n",
       "        -0.09245003, -0.09245003, -1.        ,  2.03234711, -0.09245003,\n",
       "        -0.09245003, -0.09245003, -0.09245003, -0.09245003, -0.09245003,\n",
       "        -0.09245003, -0.09245003],\n",
       "       [-0.17596211, -0.13641368, -0.09245003, -0.13130643, -0.09245003,\n",
       "        -0.09245003, -0.13130643, -0.13130643, -0.13130643, -0.09245003,\n",
       "        -0.09245003, -0.2511236 , -0.13130643, -0.09245003, -0.09245003,\n",
       "        -0.09245003, -0.30429031, -0.09245003, -0.21035158, -0.09245003,\n",
       "        -0.09245003, -0.13130643, -0.09245003, -0.09245003, -0.09245003,\n",
       "        -0.09245003, -0.09245003, -0.16151457, -0.09245003, -0.09245003,\n",
       "        -0.13130643, -0.16151457, -0.09245003, -0.16151457, -0.13130643,\n",
       "         2.97209242, -0.13130643, -0.09245003, -0.09245003, -0.09245003,\n",
       "        -0.42426407, -0.09245003, -0.09245003, -0.09245003, -0.09245003,\n",
       "        -0.09245003, -0.18731716, -0.09245003, -0.21035158, -0.09245003,\n",
       "        -0.09245003, -0.09245003, -0.09245003, -0.26967994, -0.09245003,\n",
       "        -0.09245003, -0.13130643, -0.13130643, -0.09245003, -0.28734789,\n",
       "        -0.09245003, -0.09245003,  1.        , -0.49204193, -0.09245003,\n",
       "        -0.09245003, -0.09245003, -0.09245003, -0.09245003, -0.09245003,\n",
       "        -0.09245003, -0.09245003],\n",
       "       [-0.13085002, -0.13641368, -0.09245003, -0.13130643, -0.09245003,\n",
       "        -0.09245003, -0.13130643, -0.13130643, -0.13130643, -0.09245003,\n",
       "        -0.09245003, -0.2511236 , -0.13130643, -0.09245003, -0.09245003,\n",
       "        -0.09245003, -0.30429031, -0.09245003, -0.21035158, -0.09245003,\n",
       "        -0.09245003, -0.13130643, -0.09245003, -0.09245003, -0.09245003,\n",
       "        -0.09245003, -0.09245003, -0.16151457, -0.09245003, -0.09245003,\n",
       "        -0.13130643,  6.19139187, -0.09245003, -0.16151457, -0.13130643,\n",
       "        -0.33646329, -0.13130643, -0.09245003, -0.09245003, -0.09245003,\n",
       "        -0.42426407, -0.09245003, -0.09245003, -0.09245003, -0.09245003,\n",
       "        -0.09245003, -0.18731716, -0.09245003, -0.21035158, -0.09245003,\n",
       "        -0.09245003, -0.09245003, -0.09245003, -0.26967994, -0.09245003,\n",
       "        -0.09245003, -0.13130643, -0.13130643, -0.09245003,  3.48010217,\n",
       "        -0.09245003, -0.09245003, -1.        , -0.49204193, -0.09245003,\n",
       "        -0.09245003, -0.09245003, -0.09245003, -0.09245003, -0.09245003,\n",
       "        -0.09245003, -0.09245003]])"
      ]
     },
     "execution_count": 54,
     "metadata": {},
     "output_type": "execute_result"
    }
   ],
   "source": [
    "# Standardize data\n",
    "X_scaled = StandardScaler().fit_transform(X)\n",
    "X_scaled[:3]"
   ]
  },
  {
   "cell_type": "markdown",
   "metadata": {},
   "source": [
    "### Reducing Dimensions Using PCA"
   ]
  },
  {
   "cell_type": "code",
   "execution_count": 55,
   "metadata": {},
   "outputs": [
    {
     "data": {
      "text/plain": [
       "array([[-1.23581897, -0.74227295, -0.33264758],\n",
       "       [ 1.69382053, -0.15067823, -0.02463105],\n",
       "       [-1.26921063, -0.01203124, -0.48430154],\n",
       "       [ 0.74799402, -0.68285615, -0.21286348],\n",
       "       [-1.97756711, -0.67439412, -0.38834843]])"
      ]
     },
     "execution_count": 55,
     "metadata": {},
     "output_type": "execute_result"
    }
   ],
   "source": [
    "# Use PCA to reduce dimensions to 3 principal components\n",
    "pca = PCA(n_components=3)\n",
    "crypto_scaled_pca = pca.fit_transform(X_scaled)\n",
    "crypto_scaled_pca[:5]"
   ]
  },
  {
   "cell_type": "code",
   "execution_count": 56,
   "metadata": {},
   "outputs": [
    {
     "data": {
      "text/html": [
       "<div>\n",
       "<style scoped>\n",
       "    .dataframe tbody tr th:only-of-type {\n",
       "        vertical-align: middle;\n",
       "    }\n",
       "\n",
       "    .dataframe tbody tr th {\n",
       "        vertical-align: top;\n",
       "    }\n",
       "\n",
       "    .dataframe thead th {\n",
       "        text-align: right;\n",
       "    }\n",
       "</style>\n",
       "<table border=\"1\" class=\"dataframe\">\n",
       "  <thead>\n",
       "    <tr style=\"text-align: right;\">\n",
       "      <th></th>\n",
       "      <th>PC 1</th>\n",
       "      <th>PC 2</th>\n",
       "      <th>PC 3</th>\n",
       "    </tr>\n",
       "  </thead>\n",
       "  <tbody>\n",
       "    <tr>\n",
       "      <th>NVC</th>\n",
       "      <td>-1.24</td>\n",
       "      <td>-0.74</td>\n",
       "      <td>-0.33</td>\n",
       "    </tr>\n",
       "    <tr>\n",
       "      <th>XCP</th>\n",
       "      <td>1.69</td>\n",
       "      <td>-0.15</td>\n",
       "      <td>-0.02</td>\n",
       "    </tr>\n",
       "    <tr>\n",
       "      <th>NSR</th>\n",
       "      <td>-1.27</td>\n",
       "      <td>-0.01</td>\n",
       "      <td>-0.48</td>\n",
       "    </tr>\n",
       "    <tr>\n",
       "      <th>MONA</th>\n",
       "      <td>0.75</td>\n",
       "      <td>-0.68</td>\n",
       "      <td>-0.21</td>\n",
       "    </tr>\n",
       "    <tr>\n",
       "      <th>TRI</th>\n",
       "      <td>-1.98</td>\n",
       "      <td>-0.67</td>\n",
       "      <td>-0.39</td>\n",
       "    </tr>\n",
       "  </tbody>\n",
       "</table>\n",
       "</div>"
      ],
      "text/plain": [
       "      PC 1  PC 2  PC 3\n",
       "NVC  -1.24 -0.74 -0.33\n",
       "XCP   1.69 -0.15 -0.02\n",
       "NSR  -1.27 -0.01 -0.48\n",
       "MONA  0.75 -0.68 -0.21\n",
       "TRI  -1.98 -0.67 -0.39"
      ]
     },
     "execution_count": 56,
     "metadata": {},
     "output_type": "execute_result"
    }
   ],
   "source": [
    "# Create a DataFrame with the principal components data\n",
    "pcs_df = pd.DataFrame(crypto_scaled_pca, columns=['PC 1', 'PC 2', 'PC 3'])\n",
    "pcs_df.index = X.index\n",
    "pcs_df.head()"
   ]
  },
  {
   "cell_type": "markdown",
   "metadata": {},
   "source": [
    "### Clustering Crytocurrencies Using K-Means\n",
    "\n",
    "#### Find the Best Value for `k` Using the Elbow Curve"
   ]
  },
  {
   "cell_type": "code",
   "execution_count": 57,
   "metadata": {},
   "outputs": [
    {
     "data": {},
     "metadata": {},
     "output_type": "display_data"
    },
    {
     "data": {
      "application/vnd.holoviews_exec.v0+json": "",
      "text/html": [
       "<div id='1841'>\n",
       "\n",
       "\n",
       "\n",
       "\n",
       "\n",
       "  <div class=\"bk-root\" id=\"3687eb50-f494-4465-9930-f7676b6f2639\" data-root-id=\"1841\"></div>\n",
       "</div>\n",
       "<script type=\"application/javascript\">(function(root) {\n",
       "  function embed_document(root) {\n",
       "    var docs_json = {\"1dd3a099-7bee-4b60-abf2-f241bcbe97c8\":{\"roots\":{\"references\":[{\"attributes\":{\"margin\":[5,5,5,5],\"name\":\"HSpacer03536\",\"sizing_mode\":\"stretch_width\"},\"id\":\"1905\",\"type\":\"Spacer\"},{\"attributes\":{\"text\":\"Elbow Curve\",\"text_color\":{\"value\":\"black\"},\"text_font_size\":{\"value\":\"12pt\"}},\"id\":\"1847\",\"type\":\"Title\"},{\"attributes\":{},\"id\":\"1865\",\"type\":\"WheelZoomTool\"},{\"attributes\":{\"axis_label\":\"inertia\",\"bounds\":\"auto\",\"formatter\":{\"id\":\"1890\"},\"major_label_orientation\":\"horizontal\",\"ticker\":{\"id\":\"1860\"}},\"id\":\"1859\",\"type\":\"LinearAxis\"},{\"attributes\":{\"line_alpha\":0.2,\"line_color\":\"#30a2da\",\"line_width\":2,\"x\":{\"field\":\"k\"},\"y\":{\"field\":\"inertia\"}},\"id\":\"1881\",\"type\":\"Line\"},{\"attributes\":{},\"id\":\"1864\",\"type\":\"PanTool\"},{\"attributes\":{\"margin\":[5,5,5,5],\"name\":\"HSpacer03535\",\"sizing_mode\":\"stretch_width\"},\"id\":\"1842\",\"type\":\"Spacer\"},{\"attributes\":{\"below\":[{\"id\":\"1855\"}],\"center\":[{\"id\":\"1858\"},{\"id\":\"1862\"}],\"left\":[{\"id\":\"1859\"}],\"margin\":[5,5,5,5],\"min_border_bottom\":10,\"min_border_left\":10,\"min_border_right\":10,\"min_border_top\":10,\"plot_height\":300,\"plot_width\":700,\"renderers\":[{\"id\":\"1882\"}],\"sizing_mode\":\"fixed\",\"title\":{\"id\":\"1847\"},\"toolbar\":{\"id\":\"1869\"},\"x_range\":{\"id\":\"1843\"},\"x_scale\":{\"id\":\"1851\"},\"y_range\":{\"id\":\"1844\"},\"y_scale\":{\"id\":\"1853\"}},\"id\":\"1846\",\"subtype\":\"Figure\",\"type\":\"Plot\"},{\"attributes\":{},\"id\":\"1863\",\"type\":\"SaveTool\"},{\"attributes\":{\"data_source\":{\"id\":\"1876\"},\"glyph\":{\"id\":\"1879\"},\"hover_glyph\":null,\"muted_glyph\":{\"id\":\"1881\"},\"nonselection_glyph\":{\"id\":\"1880\"},\"selection_glyph\":null,\"view\":{\"id\":\"1883\"}},\"id\":\"1882\",\"type\":\"GlyphRenderer\"},{\"attributes\":{\"overlay\":{\"id\":\"1868\"}},\"id\":\"1866\",\"type\":\"BoxZoomTool\"},{\"attributes\":{},\"id\":\"1886\",\"type\":\"BasicTickFormatter\"},{\"attributes\":{\"end\":10.0,\"reset_end\":10.0,\"reset_start\":1.0,\"start\":1.0,\"tags\":[[[\"k\",\"k\",null]]]},\"id\":\"1843\",\"type\":\"Range1d\"},{\"attributes\":{\"source\":{\"id\":\"1876\"}},\"id\":\"1883\",\"type\":\"CDSView\"},{\"attributes\":{},\"id\":\"1867\",\"type\":\"ResetTool\"},{\"attributes\":{\"axis_label\":\"k\",\"bounds\":\"auto\",\"formatter\":{\"id\":\"1886\"},\"major_label_orientation\":\"horizontal\",\"ticker\":{\"id\":\"1884\"}},\"id\":\"1855\",\"type\":\"LinearAxis\"},{\"attributes\":{\"bottom_units\":\"screen\",\"fill_alpha\":0.5,\"fill_color\":\"lightgrey\",\"left_units\":\"screen\",\"level\":\"overlay\",\"line_alpha\":1.0,\"line_color\":\"black\",\"line_dash\":[4,4],\"line_width\":2,\"right_units\":\"screen\",\"top_units\":\"screen\"},\"id\":\"1868\",\"type\":\"BoxAnnotation\"},{\"attributes\":{},\"id\":\"1890\",\"type\":\"BasicTickFormatter\"},{\"attributes\":{\"line_color\":\"#30a2da\",\"line_width\":2,\"x\":{\"field\":\"k\"},\"y\":{\"field\":\"inertia\"}},\"id\":\"1879\",\"type\":\"Line\"},{\"attributes\":{},\"id\":\"1851\",\"type\":\"LinearScale\"},{\"attributes\":{\"line_alpha\":0.1,\"line_color\":\"#30a2da\",\"line_width\":2,\"x\":{\"field\":\"k\"},\"y\":{\"field\":\"inertia\"}},\"id\":\"1880\",\"type\":\"Line\"},{\"attributes\":{\"children\":[{\"id\":\"1842\"},{\"id\":\"1846\"},{\"id\":\"1905\"}],\"margin\":[0,0,0,0],\"name\":\"Row03531\",\"tags\":[\"embedded\"]},\"id\":\"1841\",\"type\":\"Row\"},{\"attributes\":{\"data\":{\"inertia\":{\"__ndarray__\":\"Lv3UCTP/iEBLB8ISjuiAQEDuVUPNOXZAcgJEWyukZ0DjD2ZQY99YQNvztcae3FFArV8O+XTZSUCYy+IahexBQJijAjdD+zlA514erk3MNEA=\",\"dtype\":\"float64\",\"order\":\"little\",\"shape\":[10]},\"k\":[1,2,3,4,5,6,7,8,9,10]},\"selected\":{\"id\":\"1877\"},\"selection_policy\":{\"id\":\"1896\"}},\"id\":\"1876\",\"type\":\"ColumnDataSource\"},{\"attributes\":{},\"id\":\"1853\",\"type\":\"LinearScale\"},{\"attributes\":{\"callback\":null,\"renderers\":[{\"id\":\"1882\"}],\"tags\":[\"hv_created\"],\"tooltips\":[[\"k\",\"@{k}\"],[\"inertia\",\"@{inertia}\"]]},\"id\":\"1845\",\"type\":\"HoverTool\"},{\"attributes\":{\"axis\":{\"id\":\"1859\"},\"dimension\":1,\"grid_line_color\":null,\"ticker\":null},\"id\":\"1862\",\"type\":\"Grid\"},{\"attributes\":{},\"id\":\"1877\",\"type\":\"Selection\"},{\"attributes\":{\"axis\":{\"id\":\"1855\"},\"grid_line_color\":null,\"ticker\":null},\"id\":\"1858\",\"type\":\"Grid\"},{\"attributes\":{\"end\":877.8101071759535,\"reset_end\":877.8101071759535,\"reset_start\":-57.11212577413697,\"start\":-57.11212577413697,\"tags\":[[[\"inertia\",\"inertia\",null]]]},\"id\":\"1844\",\"type\":\"Range1d\"},{\"attributes\":{\"active_drag\":\"auto\",\"active_inspect\":\"auto\",\"active_multi\":null,\"active_scroll\":\"auto\",\"active_tap\":\"auto\",\"tools\":[{\"id\":\"1845\"},{\"id\":\"1863\"},{\"id\":\"1864\"},{\"id\":\"1865\"},{\"id\":\"1866\"},{\"id\":\"1867\"}]},\"id\":\"1869\",\"type\":\"Toolbar\"},{\"attributes\":{},\"id\":\"1896\",\"type\":\"UnionRenderers\"},{\"attributes\":{},\"id\":\"1860\",\"type\":\"BasicTicker\"},{\"attributes\":{\"ticks\":[1,2,3,4,5,6,7,8,9,10]},\"id\":\"1884\",\"type\":\"FixedTicker\"}],\"root_ids\":[\"1841\"]},\"title\":\"Bokeh Application\",\"version\":\"2.2.3\"}};\n",
       "    var render_items = [{\"docid\":\"1dd3a099-7bee-4b60-abf2-f241bcbe97c8\",\"root_ids\":[\"1841\"],\"roots\":{\"1841\":\"3687eb50-f494-4465-9930-f7676b6f2639\"}}];\n",
       "    root.Bokeh.embed.embed_items_notebook(docs_json, render_items);\n",
       "  }\n",
       "  if (root.Bokeh !== undefined && root.Bokeh.Panel !== undefined) {\n",
       "    embed_document(root);\n",
       "  } else {\n",
       "    var attempts = 0;\n",
       "    var timer = setInterval(function(root) {\n",
       "      if (root.Bokeh !== undefined && root.Bokeh.Panel !== undefined) {\n",
       "        clearInterval(timer);\n",
       "        embed_document(root);\n",
       "      } else if (document.readyState == \"complete\") {\n",
       "        attempts++;\n",
       "        if (attempts > 100) {\n",
       "          clearInterval(timer);\n",
       "          console.log(\"Bokeh: ERROR: Unable to run BokehJS code because BokehJS library is missing\");\n",
       "        }\n",
       "      }\n",
       "    }, 10, root)\n",
       "  }\n",
       "})(window);</script>"
      ],
      "text/plain": [
       ":Curve   [k]   (inertia)"
      ]
     },
     "execution_count": 57,
     "metadata": {
      "application/vnd.holoviews_exec.v0+json": {
       "id": "1841"
      }
     },
     "output_type": "execute_result"
    }
   ],
   "source": [
    "inertia = []\n",
    "k = list(range(1, 11))\n",
    "\n",
    "# Calculate the inertia for the range of k values\n",
    "for i in k:\n",
    "    km = KMeans(n_clusters=i, random_state=0)\n",
    "    km.fit(pcs_df)\n",
    "    inertia.append(km.inertia_)\n",
    "\n",
    "# Define a DataFrame to plot the Elbow Curve using hvPlot\n",
    "elbow_data = {\"k\": k, \"inertia\": inertia}\n",
    "df_elbow = pd.DataFrame(elbow_data)\n",
    "\n",
    "# Create the Elbow Curve using hvPlot\n",
    "df_elbow.hvplot.line(x=\"k\", y=\"inertia\", title=\"Elbow Curve\", xticks=k)"
   ]
  },
  {
   "cell_type": "markdown",
   "metadata": {},
   "source": [
    "Running K-Means with `k=<your best value for k here>`"
   ]
  },
  {
   "cell_type": "code",
   "execution_count": 58,
   "metadata": {},
   "outputs": [
    {
     "data": {
      "text/html": [
       "<div>\n",
       "<style scoped>\n",
       "    .dataframe tbody tr th:only-of-type {\n",
       "        vertical-align: middle;\n",
       "    }\n",
       "\n",
       "    .dataframe tbody tr th {\n",
       "        vertical-align: top;\n",
       "    }\n",
       "\n",
       "    .dataframe thead th {\n",
       "        text-align: right;\n",
       "    }\n",
       "</style>\n",
       "<table border=\"1\" class=\"dataframe\">\n",
       "  <thead>\n",
       "    <tr style=\"text-align: right;\">\n",
       "      <th></th>\n",
       "      <th>Algorithm</th>\n",
       "      <th>ProofType</th>\n",
       "      <th>TotalCoinsMined</th>\n",
       "      <th>MaxSupply</th>\n",
       "      <th>PC 1</th>\n",
       "      <th>PC 2</th>\n",
       "      <th>PC 3</th>\n",
       "      <th>CoinName</th>\n",
       "      <th>class</th>\n",
       "    </tr>\n",
       "  </thead>\n",
       "  <tbody>\n",
       "    <tr>\n",
       "      <th>NVC</th>\n",
       "      <td>Scrypt</td>\n",
       "      <td>PoW/PoS</td>\n",
       "      <td>3196718.50</td>\n",
       "      <td>-1</td>\n",
       "      <td>-1.24</td>\n",
       "      <td>-0.74</td>\n",
       "      <td>-0.33</td>\n",
       "      <td>NovaCoin</td>\n",
       "      <td>1</td>\n",
       "    </tr>\n",
       "    <tr>\n",
       "      <th>XCP</th>\n",
       "      <td>SHA-256</td>\n",
       "      <td>PoW</td>\n",
       "      <td>2615081.35</td>\n",
       "      <td>-1</td>\n",
       "      <td>1.69</td>\n",
       "      <td>-0.15</td>\n",
       "      <td>-0.02</td>\n",
       "      <td>CounterParty</td>\n",
       "      <td>0</td>\n",
       "    </tr>\n",
       "    <tr>\n",
       "      <th>NSR</th>\n",
       "      <td>PoS</td>\n",
       "      <td>PoS</td>\n",
       "      <td>5855759270.07</td>\n",
       "      <td>0</td>\n",
       "      <td>-1.27</td>\n",
       "      <td>-0.01</td>\n",
       "      <td>-0.48</td>\n",
       "      <td>NuShares</td>\n",
       "      <td>1</td>\n",
       "    </tr>\n",
       "    <tr>\n",
       "      <th>MONA</th>\n",
       "      <td>Scrypt</td>\n",
       "      <td>PoW</td>\n",
       "      <td>81167037.47</td>\n",
       "      <td>-1</td>\n",
       "      <td>0.75</td>\n",
       "      <td>-0.68</td>\n",
       "      <td>-0.21</td>\n",
       "      <td>MonaCoin</td>\n",
       "      <td>0</td>\n",
       "    </tr>\n",
       "    <tr>\n",
       "      <th>TRI</th>\n",
       "      <td>X13</td>\n",
       "      <td>PoW/PoS</td>\n",
       "      <td>175041.49</td>\n",
       "      <td>0</td>\n",
       "      <td>-1.98</td>\n",
       "      <td>-0.67</td>\n",
       "      <td>-0.39</td>\n",
       "      <td>Triangles Coin</td>\n",
       "      <td>1</td>\n",
       "    </tr>\n",
       "  </tbody>\n",
       "</table>\n",
       "</div>"
      ],
      "text/plain": [
       "     Algorithm ProofType TotalCoinsMined MaxSupply  PC 1  PC 2  PC 3  \\\n",
       "NVC     Scrypt   PoW/PoS      3196718.50        -1 -1.24 -0.74 -0.33   \n",
       "XCP    SHA-256       PoW      2615081.35        -1  1.69 -0.15 -0.02   \n",
       "NSR        PoS       PoS   5855759270.07         0 -1.27 -0.01 -0.48   \n",
       "MONA    Scrypt       PoW     81167037.47        -1  0.75 -0.68 -0.21   \n",
       "TRI        X13   PoW/PoS       175041.49         0 -1.98 -0.67 -0.39   \n",
       "\n",
       "            CoinName  class  \n",
       "NVC         NovaCoin      1  \n",
       "XCP     CounterParty      0  \n",
       "NSR         NuShares      1  \n",
       "MONA        MonaCoin      0  \n",
       "TRI   Triangles Coin      1  "
      ]
     },
     "execution_count": 58,
     "metadata": {},
     "output_type": "execute_result"
    }
   ],
   "source": [
    "# Initialize the K-Means model\n",
    "model = KMeans(n_clusters=5, random_state=5)\n",
    "\n",
    "# Fit the model\n",
    "model.fit(pcs_df)\n",
    "\n",
    "# Predict clusters\n",
    "predictions = model.predict(pcs_df)\n",
    "\n",
    "# Create a new DataFrame including predicted clusters and cryptocurrencies features\n",
    "clustered_df = crypt_df.join(pcs_df).join(coins_name_df)\n",
    "clustered_df['class'] = model.labels_\n",
    "clustered_df.head()"
   ]
  },
  {
   "cell_type": "markdown",
   "metadata": {},
   "source": [
    "### Visualizing Results\n",
    "\n",
    "#### 3D-Scatter with Clusters"
   ]
  },
  {
   "cell_type": "code",
   "execution_count": 59,
   "metadata": {},
   "outputs": [
    {
     "data": {
      "application/vnd.plotly.v1+json": {
       "config": {
        "plotlyServerURL": "https://plot.ly"
       },
       "data": [
        {
         "customdata": [
          [
           "Scrypt"
          ],
          [
           "PoS"
          ],
          [
           "X13"
          ],
          [
           "SHA-256"
          ],
          [
           "Scrypt"
          ],
          [
           "X11"
          ],
          [
           "Scrypt"
          ],
          [
           "Equihash"
          ],
          [
           "SPoS"
          ],
          [
           "X16RT"
          ],
          [
           "ECC 256K1"
          ],
          [
           "Scrypt"
          ],
          [
           "IMesh"
          ],
          [
           "HEX"
          ],
          [
           "POS 3.0"
          ],
          [
           "Quark"
          ],
          [
           "SPL Token"
          ],
          [
           "SHA3"
          ],
          [
           "Loopchain"
          ],
          [
           "BLAKE256"
          ],
          [
           "BMW512 / Echo512"
          ],
          [
           "Scrypt"
          ],
          [
           "Scrypt"
          ],
          [
           "Leased POS"
          ],
          [
           "X13"
          ],
          [
           "Scrypt"
          ],
          [
           "Scrypt"
          ],
          [
           "POS 3.0"
          ],
          [
           "Scrypt"
          ],
          [
           "Quark"
          ],
          [
           "VBFT"
          ],
          [
           "PoS"
          ],
          [
           "X13"
          ],
          [
           "X11"
          ],
          [
           "BLAKE256"
          ],
          [
           "X11"
          ],
          [
           "X13"
          ],
          [
           "Ouroboros"
          ],
          [
           "Shabal256"
          ],
          [
           "Quark"
          ],
          [
           "X13"
          ],
          [
           "BEP-2"
          ],
          [
           "Equihash210,9"
          ]
         ],
         "hovertemplate": "<b>%{hovertext}</b><br><br>class=%{marker.color}<br>PC 1=%{x}<br>PC 2=%{y}<br>PC 3=%{z}<br>Algorithm=%{customdata[0]}<extra></extra>",
         "hovertext": [
          "NovaCoin",
          "NuShares",
          "Triangles Coin",
          "Emercoin",
          "SafeExchangeCoin",
          "Stakenet",
          "OpenChat",
          "Zelcash",
          "V Systems",
          "VEIL",
          "Acute Angle Cloud",
          "Auroracoin",
          "INT",
          "XDNA",
          "TokenPay",
          "QuarkCoin",
          "MAPS",
          "Nexus",
          "ICON Project",
          "HyperCash",
          "DigitalNote",
          "BlackCoin",
          "WhiteCoin",
          "Waves",
          "Stratis",
          "SaluS",
          "Reddcoin",
          "QTUM",
          "PotCoin",
          "Private Instant Verified Transaction",
          "Ontology",
          "Nxt",
          "NavCoin",
          "IOCoin",
          "Decred",
          "Dash",
          "CloakCoin",
          "Cardano",
          "BurstCoin",
          "BlockNet",
          "Bitcoin Diamond",
          "Binance Coin",
          "Aion"
         ],
         "legendgroup": "1",
         "marker": {
          "color": [
           1,
           1,
           1,
           1,
           1,
           1,
           1,
           1,
           1,
           1,
           1,
           1,
           1,
           1,
           1,
           1,
           1,
           1,
           1,
           1,
           1,
           1,
           1,
           1,
           1,
           1,
           1,
           1,
           1,
           1,
           1,
           1,
           1,
           1,
           1,
           1,
           1,
           1,
           1,
           1,
           1,
           1,
           1
          ],
          "coloraxis": "coloraxis",
          "symbol": "circle"
         },
         "mode": "markers",
         "name": "1",
         "scene": "scene",
         "showlegend": true,
         "type": "scatter3d",
         "x": [
          -1.235818966854998,
          -1.26921063279142,
          -1.9775671119341673,
          -0.28981222028456227,
          -0.8818684710309764,
          -1.1478636092464607,
          -1.2343531079585075,
          -0.7882608805347094,
          -1.8396162532882476,
          -1.9380276219616146,
          -1.880867864293653,
          -1.2357455600218852,
          -0.2998160640856037,
          -1.9394892993319648,
          -1.818428488838491,
          -1.963159603984113,
          -1.750023807184478,
          -1.8877718780630035,
          -1.8053882975774234,
          -1.9510296254920938,
          -1.926866625962485,
          -1.1582516377311411,
          -1.2320988214306623,
          -1.8885574580482185,
          -1.9001312190352584,
          -1.2358221493933403,
          -1.1915812184863837,
          -1.8181119778966854,
          -1.2344933254826962,
          -1.9634588682276413,
          -1.805093749440276,
          -0.9202952853233999,
          -1.977462455397545,
          -1.4845822697656026,
          -1.951226831097483,
          -1.148060169558536,
          -1.9775591201978011,
          -1.5446222758207755,
          -1.326416061235412,
          -1.9635442428484569,
          -1.9767745001701464,
          -1.8856253904363356,
          -1.9382749047452177
         ],
         "y": [
          -0.7422729494532698,
          -0.012031242503256915,
          -0.6743941232246841,
          -0.20963702354920333,
          -0.5877545578531778,
          -0.5445487183216442,
          -0.7385480434408094,
          -0.7168302815070913,
          -0.1219178638745941,
          -0.7320808020559456,
          -0.26861402541065926,
          -0.7421473433787676,
          -0.47622026699492237,
          -0.7344057539042,
          0.12949798693172926,
          -0.7432410550333711,
          -0.040463737887799646,
          -0.2950153652610756,
          0.13399508547036415,
          -0.7388008480204,
          -0.700933538910034,
          -0.25768825008224927,
          -0.7357210206664744,
          -0.29595923351466125,
          -0.18985328119964018,
          -0.7422810366274385,
          -0.629860045816647,
          0.13006197760661953,
          -0.7401229238531408,
          -0.7440015178464705,
          0.13477615444700478,
          -0.24152873948089185,
          -0.6741281796419177,
          -0.6814512133938627,
          -0.7391191829176351,
          -0.5451676642896834,
          -0.6743738153552375,
          0.5928238503272614,
          -0.4472634951691088,
          -0.7442184639926176,
          -0.6729892972552848,
          -0.28957659342675995,
          -0.7311854791205293
         ],
         "z": [
          -0.3326475786530212,
          -0.48430153541455817,
          -0.3883484314188606,
          -0.1444109017163424,
          -0.2022936035551027,
          -0.07547166436106671,
          -0.33261299867802907,
          -0.23898968467559087,
          1.8251908521460516,
          -0.34460586006199656,
          1.8136914201116732,
          -0.332624827449645,
          0.051079488977817854,
          -0.345237648786269,
          -0.6425993451442513,
          -0.3511578109558681,
          2.5409938081967294,
          1.8171552924917416,
          -0.637255421908263,
          -0.3480076773828426,
          -0.34489387525652665,
          -0.48069459090191796,
          -0.3315588901189504,
          1.8115478441739097,
          -0.5364986372208772,
          -0.33264765372989064,
          -0.3316039991952746,
          -0.6425089791969112,
          -0.33219591610374,
          -0.35116487067360885,
          -0.6372474000058981,
          -0.26396458922680655,
          -0.38834596254620096,
          -0.2396265682008128,
          -0.3480753880629133,
          -0.0754397228290836,
          -0.388348242892818,
          -0.541356484510361,
          -0.08375743964679201,
          -0.3511668846820921,
          -0.3881195383409966,
          1.8241461369288319,
          -0.34520457523054776
         ]
        },
        {
         "customdata": [
          [
           "SHA-256"
          ],
          [
           "Scrypt"
          ],
          [
           "Scrypt"
          ],
          [
           "RandomX"
          ],
          [
           "Equihash"
          ],
          [
           "X11"
          ],
          [
           "SHA-256"
          ],
          [
           "Equihash"
          ],
          [
           "Ethash"
          ],
          [
           "IMesh"
          ],
          [
           "Equihash"
          ],
          [
           "Equihash"
          ],
          [
           "CryptoNight"
          ],
          [
           "Eaglesong"
          ],
          [
           "Blake2B + SHA3"
          ],
          [
           "C31"
          ],
          [
           "SHA-256"
          ],
          [
           "X16R"
          ],
          [
           "Scrypt"
          ],
          [
           "SHA-256"
          ],
          [
           "CryptoNight-Heavy"
          ],
          [
           "Ethash"
          ],
          [
           "SHA-256"
          ],
          [
           "CryptoNight-Lite"
          ],
          [
           "Multiple"
          ],
          [
           "Equihash"
          ],
          [
           "SHA-256"
          ],
          [
           "C31"
          ],
          [
           "Equihash"
          ],
          [
           "Scrypt"
          ],
          [
           "Lyra2REv2"
          ],
          [
           "Multiple"
          ],
          [
           "Dagger-Hashimoto"
          ],
          [
           "PoS"
          ],
          [
           "KECCAK"
          ],
          [
           "X11GOST"
          ],
          [
           "Blake2b"
          ],
          [
           "Blake2b"
          ],
          [
           "SHA-256"
          ],
          [
           "RandomX"
          ],
          [
           "Scrypt"
          ],
          [
           "Scrypt"
          ],
          [
           "Equihash"
          ],
          [
           "Equihash"
          ],
          [
           "Scrypt"
          ],
          [
           "Groestl"
          ],
          [
           "MTP"
          ],
          [
           "NeoScrypt"
          ],
          [
           "Ethash"
          ],
          [
           "Ethash"
          ],
          [
           "Ethash"
          ],
          [
           "Scrypt"
          ],
          [
           "Scrypt"
          ],
          [
           "Multiple"
          ],
          [
           "Tensority"
          ],
          [
           "CryptoNight"
          ],
          [
           "SHA-256"
          ],
          [
           "Equihash"
          ],
          [
           "SHA-256"
          ],
          [
           "SHA-256"
          ]
         ],
         "hovertemplate": "<b>%{hovertext}</b><br><br>class=%{marker.color}<br>PC 1=%{x}<br>PC 2=%{y}<br>PC 3=%{z}<br>Algorithm=%{customdata[0]}<extra></extra>",
         "hovertext": [
          "CounterParty",
          "MonaCoin",
          "CometCoin",
          "Quantum Resistant Ledger",
          "BitcoinZ",
          "Pura",
          "UnitedBitcoin",
          "Bitcoin Private",
          "Callisto Network",
          "Aidos Kuneen",
          "Beam",
          "Bithereum",
          "Beldex",
          "Nervos Network",
          "Handshake",
          "MimbleWimbleCoin",
          "Arweave",
          "Ravencoin Classic",
          "Primas",
          "Bitcoin Vault",
          "Haven Protocol",
          "EtherZero",
          "Bitcoin ABC",
          "AEON",
          "Circuits of Value",
          "TENT",
          "SysCoin",
          "Grin",
          "ZCash",
          "ViaCoin",
          "Vertcoin",
          "Verge",
          "Ubiq",
          "Steem",
          "SmartCash",
          "SibCoin",
          "Siacoin",
          "Nano",
          "Namecoin",
          "Monero",
          "MegaCoin",
          "Litecoin",
          "Komodo",
          "Horizen",
          "Gulden",
          "Groestlcoin",
          "Firo",
          "FeatherCoin",
          "Expanse",
          "Ethereum Classic",
          "Ethereum",
          "Einsteinium",
          "Dogecoin",
          "DigiByte",
          "Bytom",
          "ByteCoin",
          "Bitcoin SV",
          "Bitcoin Gold",
          "Bitcoin Cash",
          "Bitcoin"
         ],
         "legendgroup": "0",
         "marker": {
          "color": [
           0,
           0,
           0,
           0,
           0,
           0,
           0,
           0,
           0,
           0,
           0,
           0,
           0,
           0,
           0,
           0,
           0,
           0,
           0,
           0,
           0,
           0,
           0,
           0,
           0,
           0,
           0,
           0,
           0,
           0,
           0,
           0,
           0,
           0,
           0,
           0,
           0,
           0,
           0,
           0,
           0,
           0,
           0,
           0,
           0,
           0,
           0,
           0,
           0,
           0,
           0,
           0,
           0,
           0,
           0,
           0,
           0,
           0,
           0,
           0
          ],
          "coloraxis": "coloraxis",
          "symbol": "diamond"
         },
         "mode": "markers",
         "name": "0",
         "scene": "scene",
         "showlegend": true,
         "type": "scatter3d",
         "x": [
          1.6938205285402304,
          0.7479940211446685,
          0.7478759437083505,
          1.457296699550019,
          1.2575824253355166,
          0.4993131551412472,
          1.6938974658359822,
          1.1943513585702181,
          1.508072131023688,
          0.9927576008598017,
          1.195015722259273,
          1.1943368091165811,
          1.7143916699486577,
          1.5269681783101552,
          1.4571107194986368,
          1.4569208956091138,
          1.694067682493421,
          1.5543022353089835,
          0.7480217161434521,
          1.6938840344774777,
          1.447951329315041,
          1.488633669463558,
          1.693894064976392,
          1.4479588691118068,
          1.50182389782064,
          0.03950415849456511,
          1.6968228729839072,
          1.456951963902672,
          1.1943573846356355,
          0.7479087385323315,
          1.4484041093725852,
          1.5627285653459817,
          1.448041013585322,
          0.6291888928900976,
          1.4748219820967896,
          1.4480472367746158,
          1.5515973890543535,
          1.4824937640376175,
          1.6938422791958008,
          1.456965201255549,
          0.7480324716003394,
          0.7481732811027622,
          0.04020780478169058,
          1.1943573555679519,
          0.7526508838564391,
          1.4485341727675416,
          1.4480303560701422,
          1.4498814713246317,
          1.4885951828489299,
          1.4889924198785982,
          1.4884760589610269,
          0.7482002733549983,
          0.9373812926283033,
          1.569958928095629,
          1.4529513521887785,
          2.421949107185063,
          1.6938940734221801,
          1.1943687686453381,
          1.6938940761861014,
          1.6938940395961504
         ],
         "y": [
          -0.15067823285237042,
          -0.6828561515172846,
          -0.6831561990578578,
          -0.632502564664195,
          -0.5601070757007213,
          -0.6217611043681185,
          -0.15054365549043336,
          -0.659921794721153,
          -0.6099495885248426,
          -0.5885905590761473,
          -0.6589296883706791,
          -0.6598924018717802,
          -0.12261811466684006,
          -0.4194720757631686,
          -0.6152639982187819,
          -0.633134846579973,
          -0.15024167789293041,
          -0.4555628112725354,
          -0.6827857755297084,
          -0.15057778602521033,
          -0.6290052610004228,
          -0.640485961601458,
          -0.15055229744244458,
          -0.628985267319926,
          -0.5669231237952156,
          -0.6115446332287162,
          -0.14562536132897363,
          -0.6329978714200457,
          -0.6599010458779683,
          -0.6830728638599309,
          -0.6282388956602781,
          -0.46018984236619187,
          -0.6287674404462433,
          -0.45742715338467566,
          -0.5836018513405676,
          -0.6288595119987231,
          -0.38587042254818105,
          -0.5618568100750058,
          -0.1506229620838806,
          -0.6330402945560593,
          -0.6828803020046458,
          -0.6826443470795184,
          -0.6102779821663592,
          -0.6599011197420974,
          -0.6758968497087958,
          -0.6280025735411406,
          -0.6289063435359519,
          -0.6256241832352988,
          -0.6408738965678591,
          -0.6401856552060743,
          -0.6408864669365281,
          -0.6823320423413021,
          -0.2016026093637517,
          -0.4547132676409687,
          -0.6168321732532062,
          1.1401474110118637,
          -0.15055227598078058,
          -0.6598721178779487,
          -0.15055226895735865,
          -0.1505523619363819
         ],
         "z": [
          -0.024631051740924302,
          -0.21286347679075845,
          -0.212866262265771,
          -0.10984827838110137,
          -0.09693295042378448,
          -0.11986254207881343,
          -0.024608217253058853,
          -0.11942120910110127,
          -0.10448513222979831,
          -0.05674606736863261,
          -0.1191653872021399,
          -0.11944444717256959,
          -0.010454605545864663,
          -0.10694386724868353,
          -0.1048209400716594,
          -0.10998497639225975,
          -0.02455915997779996,
          -0.06476079875966045,
          -0.21286282345886853,
          -0.024608534102138084,
          -0.1090958599722793,
          -0.11144973132888723,
          -0.02460829748020329,
          -0.10909565462890375,
          -0.09723147004705016,
          -0.07446721469358862,
          -0.02367140040057127,
          -0.11000426207210216,
          -0.11942294227399788,
          -0.2128654886287389,
          -0.10891777413909923,
          -0.07922432795033058,
          -0.10909341745655099,
          -0.21655542059381744,
          -0.09849770637978922,
          -0.10905180933224952,
          -0.10749273792187615,
          -0.1089895374487926,
          -0.024630538637564665,
          -0.10996119609396779,
          -0.21282053070002385,
          -0.21277516993498563,
          -0.0742193414647683,
          -0.11942294295971172,
          -0.21107205888532893,
          -0.10887279327761044,
          -0.10905147976422257,
          -0.10838027513422424,
          -0.11135054629870406,
          -0.11123037249630369,
          -0.11145344939973886,
          -0.2128586112499537,
          -0.20839578407655787,
          -0.07460463080679988,
          -0.10854529995677918,
          0.19087829258790764,
          -0.024608297280965148,
          -0.11942267372238488,
          -0.024608297215763516,
          -0.024608298078929416
         ]
        },
        {
         "customdata": [
          [
           "Dagger"
          ],
          [
           "Dagger"
          ],
          [
           "VeChainThor Authority"
          ],
          [
           "Proof-of-Authority"
          ]
         ],
         "hovertemplate": "<b>%{hovertext}</b><br><br>class=%{marker.color}<br>PC 1=%{x}<br>PC 2=%{y}<br>PC 3=%{z}<br>Algorithm=%{customdata[0]}<extra></extra>",
         "hovertext": [
          "Amber",
          "DAPS Coin",
          "VeChain",
          "Poa Network"
         ],
         "legendgroup": "2",
         "marker": {
          "color": [
           2,
           2,
           2,
           2
          ],
          "coloraxis": "coloraxis",
          "symbol": "square"
         },
         "mode": "markers",
         "name": "2",
         "scene": "scene",
         "showlegend": true,
         "type": "scatter3d",
         "x": [
          -1.5369898525858923,
          -1.0268956468270019,
          0.052550150632560855,
          -1.710682857620962
         ],
         "y": [
          0.793565270760899,
          1.7401148833512927,
          4.550498712334444,
          0.4121897485539441
         ],
         "z": [
          5.8378137553982885,
          6.00249104306931,
          8.343007774613023,
          5.708220841958422
         ]
        },
        {
         "customdata": [
          [
           "SHA-512"
          ],
          [
           "DPoS"
          ],
          [
           "DPoS"
          ],
          [
           "DPoS"
          ],
          [
           "DPoS"
          ],
          [
           "DPoS"
          ],
          [
           "SHA-512"
          ],
          [
           "DPoS"
          ],
          [
           "DPoS"
          ]
         ],
         "hovertemplate": "<b>%{hovertext}</b><br><br>class=%{marker.color}<br>PC 1=%{x}<br>PC 2=%{y}<br>PC 3=%{z}<br>Algorithm=%{customdata[0]}<extra></extra>",
         "hovertext": [
          "Kcash",
          "ARK",
          "Rise",
          "Shift",
          "Lisk",
          "EOS",
          "Bitshares",
          "Oxycoin",
          "Achain"
         ],
         "legendgroup": "4",
         "marker": {
          "color": [
           4,
           4,
           4,
           4,
           4,
           4,
           4,
           4,
           4
          ],
          "coloraxis": "coloraxis",
          "symbol": "x"
         },
         "mode": "markers",
         "name": "4",
         "scene": "scene",
         "showlegend": true,
         "type": "scatter3d",
         "x": [
          -1.706359346364117,
          -1.5647178600969025,
          -1.7532795773593295,
          -1.5649260594857997,
          -1.5647365804386553,
          -1.5634355476113222,
          -1.5342216614527548,
          -1.5632972133665184,
          -1.5634771838379358
         ],
         "y": [
          1.7521463648358802,
          3.14018503988562,
          1.411429627583529,
          3.1396559827182817,
          3.140137469472318,
          3.1434435346144336,
          2.8393268249473644,
          3.143795056893577,
          3.1433377324560703
         ],
         "z": [
          -1.8084094805640396,
          -2.0705971525994777,
          -1.3448633347980583,
          -2.07060206407471,
          -2.0705975942169856,
          -2.0705669025298508,
          -1.988682290937079,
          -2.0705636391907,
          -2.0705678847377644
         ]
        },
        {
         "customdata": [
          [
           "SHA-256"
          ],
          [
           "TRC10"
          ]
         ],
         "hovertemplate": "<b>%{hovertext}</b><br><br>class=%{marker.color}<br>PC 1=%{x}<br>PC 2=%{y}<br>PC 3=%{z}<br>Algorithm=%{customdata[0]}<extra></extra>",
         "hovertext": [
          "Wibcoin",
          "BitTorrent"
         ],
         "legendgroup": "3",
         "marker": {
          "color": [
           3,
           3
          ],
          "coloraxis": "coloraxis",
          "symbol": "cross"
         },
         "mode": "markers",
         "name": "3",
         "scene": "scene",
         "showlegend": true,
         "type": "scatter3d",
         "x": [
          5.540687090495559,
          1.000470322625593
         ],
         "y": [
          6.723214133910013,
          9.801207936698246
         ],
         "z": [
          1.0670636102149158,
          -2.0003462507357206
         ]
        }
       ],
       "layout": {
        "autosize": true,
        "coloraxis": {
         "colorbar": {
          "title": {
           "text": "class"
          }
         },
         "colorscale": [
          [
           0,
           "#0d0887"
          ],
          [
           0.1111111111111111,
           "#46039f"
          ],
          [
           0.2222222222222222,
           "#7201a8"
          ],
          [
           0.3333333333333333,
           "#9c179e"
          ],
          [
           0.4444444444444444,
           "#bd3786"
          ],
          [
           0.5555555555555556,
           "#d8576b"
          ],
          [
           0.6666666666666666,
           "#ed7953"
          ],
          [
           0.7777777777777778,
           "#fb9f3a"
          ],
          [
           0.8888888888888888,
           "#fdca26"
          ],
          [
           1,
           "#f0f921"
          ]
         ]
        },
        "legend": {
         "title": {
          "text": "class"
         },
         "tracegroupgap": 0,
         "x": 0,
         "y": 1
        },
        "margin": {
         "t": 60
        },
        "scene": {
         "aspectmode": "auto",
         "aspectratio": {
          "x": 0.8014126403492892,
          "y": 1.1240958057331343,
          "z": 1.1100447433252478
         },
         "camera": {
          "center": {
           "x": 0,
           "y": 0,
           "z": 0
          },
          "eye": {
           "x": 1.3461545115494427,
           "y": 1.3461545115494424,
           "z": 1.3461545115494424
          },
          "projection": {
           "type": "perspective"
          },
          "up": {
           "x": 0,
           "y": 0,
           "z": 1
          }
         },
         "domain": {
          "x": [
           0,
           1
          ],
          "y": [
           0,
           1
          ]
         },
         "xaxis": {
          "title": {
           "text": "PC 1"
          },
          "type": "linear"
         },
         "yaxis": {
          "title": {
           "text": "PC 2"
          },
          "type": "linear"
         },
         "zaxis": {
          "title": {
           "text": "PC 3"
          },
          "type": "linear"
         }
        },
        "template": {
         "data": {
          "bar": [
           {
            "error_x": {
             "color": "#2a3f5f"
            },
            "error_y": {
             "color": "#2a3f5f"
            },
            "marker": {
             "line": {
              "color": "#E5ECF6",
              "width": 0.5
             }
            },
            "type": "bar"
           }
          ],
          "barpolar": [
           {
            "marker": {
             "line": {
              "color": "#E5ECF6",
              "width": 0.5
             }
            },
            "type": "barpolar"
           }
          ],
          "carpet": [
           {
            "aaxis": {
             "endlinecolor": "#2a3f5f",
             "gridcolor": "white",
             "linecolor": "white",
             "minorgridcolor": "white",
             "startlinecolor": "#2a3f5f"
            },
            "baxis": {
             "endlinecolor": "#2a3f5f",
             "gridcolor": "white",
             "linecolor": "white",
             "minorgridcolor": "white",
             "startlinecolor": "#2a3f5f"
            },
            "type": "carpet"
           }
          ],
          "choropleth": [
           {
            "colorbar": {
             "outlinewidth": 0,
             "ticks": ""
            },
            "type": "choropleth"
           }
          ],
          "contour": [
           {
            "colorbar": {
             "outlinewidth": 0,
             "ticks": ""
            },
            "colorscale": [
             [
              0,
              "#0d0887"
             ],
             [
              0.1111111111111111,
              "#46039f"
             ],
             [
              0.2222222222222222,
              "#7201a8"
             ],
             [
              0.3333333333333333,
              "#9c179e"
             ],
             [
              0.4444444444444444,
              "#bd3786"
             ],
             [
              0.5555555555555556,
              "#d8576b"
             ],
             [
              0.6666666666666666,
              "#ed7953"
             ],
             [
              0.7777777777777778,
              "#fb9f3a"
             ],
             [
              0.8888888888888888,
              "#fdca26"
             ],
             [
              1,
              "#f0f921"
             ]
            ],
            "type": "contour"
           }
          ],
          "contourcarpet": [
           {
            "colorbar": {
             "outlinewidth": 0,
             "ticks": ""
            },
            "type": "contourcarpet"
           }
          ],
          "heatmap": [
           {
            "colorbar": {
             "outlinewidth": 0,
             "ticks": ""
            },
            "colorscale": [
             [
              0,
              "#0d0887"
             ],
             [
              0.1111111111111111,
              "#46039f"
             ],
             [
              0.2222222222222222,
              "#7201a8"
             ],
             [
              0.3333333333333333,
              "#9c179e"
             ],
             [
              0.4444444444444444,
              "#bd3786"
             ],
             [
              0.5555555555555556,
              "#d8576b"
             ],
             [
              0.6666666666666666,
              "#ed7953"
             ],
             [
              0.7777777777777778,
              "#fb9f3a"
             ],
             [
              0.8888888888888888,
              "#fdca26"
             ],
             [
              1,
              "#f0f921"
             ]
            ],
            "type": "heatmap"
           }
          ],
          "heatmapgl": [
           {
            "colorbar": {
             "outlinewidth": 0,
             "ticks": ""
            },
            "colorscale": [
             [
              0,
              "#0d0887"
             ],
             [
              0.1111111111111111,
              "#46039f"
             ],
             [
              0.2222222222222222,
              "#7201a8"
             ],
             [
              0.3333333333333333,
              "#9c179e"
             ],
             [
              0.4444444444444444,
              "#bd3786"
             ],
             [
              0.5555555555555556,
              "#d8576b"
             ],
             [
              0.6666666666666666,
              "#ed7953"
             ],
             [
              0.7777777777777778,
              "#fb9f3a"
             ],
             [
              0.8888888888888888,
              "#fdca26"
             ],
             [
              1,
              "#f0f921"
             ]
            ],
            "type": "heatmapgl"
           }
          ],
          "histogram": [
           {
            "marker": {
             "colorbar": {
              "outlinewidth": 0,
              "ticks": ""
             }
            },
            "type": "histogram"
           }
          ],
          "histogram2d": [
           {
            "colorbar": {
             "outlinewidth": 0,
             "ticks": ""
            },
            "colorscale": [
             [
              0,
              "#0d0887"
             ],
             [
              0.1111111111111111,
              "#46039f"
             ],
             [
              0.2222222222222222,
              "#7201a8"
             ],
             [
              0.3333333333333333,
              "#9c179e"
             ],
             [
              0.4444444444444444,
              "#bd3786"
             ],
             [
              0.5555555555555556,
              "#d8576b"
             ],
             [
              0.6666666666666666,
              "#ed7953"
             ],
             [
              0.7777777777777778,
              "#fb9f3a"
             ],
             [
              0.8888888888888888,
              "#fdca26"
             ],
             [
              1,
              "#f0f921"
             ]
            ],
            "type": "histogram2d"
           }
          ],
          "histogram2dcontour": [
           {
            "colorbar": {
             "outlinewidth": 0,
             "ticks": ""
            },
            "colorscale": [
             [
              0,
              "#0d0887"
             ],
             [
              0.1111111111111111,
              "#46039f"
             ],
             [
              0.2222222222222222,
              "#7201a8"
             ],
             [
              0.3333333333333333,
              "#9c179e"
             ],
             [
              0.4444444444444444,
              "#bd3786"
             ],
             [
              0.5555555555555556,
              "#d8576b"
             ],
             [
              0.6666666666666666,
              "#ed7953"
             ],
             [
              0.7777777777777778,
              "#fb9f3a"
             ],
             [
              0.8888888888888888,
              "#fdca26"
             ],
             [
              1,
              "#f0f921"
             ]
            ],
            "type": "histogram2dcontour"
           }
          ],
          "mesh3d": [
           {
            "colorbar": {
             "outlinewidth": 0,
             "ticks": ""
            },
            "type": "mesh3d"
           }
          ],
          "parcoords": [
           {
            "line": {
             "colorbar": {
              "outlinewidth": 0,
              "ticks": ""
             }
            },
            "type": "parcoords"
           }
          ],
          "pie": [
           {
            "automargin": true,
            "type": "pie"
           }
          ],
          "scatter": [
           {
            "marker": {
             "colorbar": {
              "outlinewidth": 0,
              "ticks": ""
             }
            },
            "type": "scatter"
           }
          ],
          "scatter3d": [
           {
            "line": {
             "colorbar": {
              "outlinewidth": 0,
              "ticks": ""
             }
            },
            "marker": {
             "colorbar": {
              "outlinewidth": 0,
              "ticks": ""
             }
            },
            "type": "scatter3d"
           }
          ],
          "scattercarpet": [
           {
            "marker": {
             "colorbar": {
              "outlinewidth": 0,
              "ticks": ""
             }
            },
            "type": "scattercarpet"
           }
          ],
          "scattergeo": [
           {
            "marker": {
             "colorbar": {
              "outlinewidth": 0,
              "ticks": ""
             }
            },
            "type": "scattergeo"
           }
          ],
          "scattergl": [
           {
            "marker": {
             "colorbar": {
              "outlinewidth": 0,
              "ticks": ""
             }
            },
            "type": "scattergl"
           }
          ],
          "scattermapbox": [
           {
            "marker": {
             "colorbar": {
              "outlinewidth": 0,
              "ticks": ""
             }
            },
            "type": "scattermapbox"
           }
          ],
          "scatterpolar": [
           {
            "marker": {
             "colorbar": {
              "outlinewidth": 0,
              "ticks": ""
             }
            },
            "type": "scatterpolar"
           }
          ],
          "scatterpolargl": [
           {
            "marker": {
             "colorbar": {
              "outlinewidth": 0,
              "ticks": ""
             }
            },
            "type": "scatterpolargl"
           }
          ],
          "scatterternary": [
           {
            "marker": {
             "colorbar": {
              "outlinewidth": 0,
              "ticks": ""
             }
            },
            "type": "scatterternary"
           }
          ],
          "surface": [
           {
            "colorbar": {
             "outlinewidth": 0,
             "ticks": ""
            },
            "colorscale": [
             [
              0,
              "#0d0887"
             ],
             [
              0.1111111111111111,
              "#46039f"
             ],
             [
              0.2222222222222222,
              "#7201a8"
             ],
             [
              0.3333333333333333,
              "#9c179e"
             ],
             [
              0.4444444444444444,
              "#bd3786"
             ],
             [
              0.5555555555555556,
              "#d8576b"
             ],
             [
              0.6666666666666666,
              "#ed7953"
             ],
             [
              0.7777777777777778,
              "#fb9f3a"
             ],
             [
              0.8888888888888888,
              "#fdca26"
             ],
             [
              1,
              "#f0f921"
             ]
            ],
            "type": "surface"
           }
          ],
          "table": [
           {
            "cells": {
             "fill": {
              "color": "#EBF0F8"
             },
             "line": {
              "color": "white"
             }
            },
            "header": {
             "fill": {
              "color": "#C8D4E3"
             },
             "line": {
              "color": "white"
             }
            },
            "type": "table"
           }
          ]
         },
         "layout": {
          "annotationdefaults": {
           "arrowcolor": "#2a3f5f",
           "arrowhead": 0,
           "arrowwidth": 1
          },
          "autotypenumbers": "strict",
          "coloraxis": {
           "colorbar": {
            "outlinewidth": 0,
            "ticks": ""
           }
          },
          "colorscale": {
           "diverging": [
            [
             0,
             "#8e0152"
            ],
            [
             0.1,
             "#c51b7d"
            ],
            [
             0.2,
             "#de77ae"
            ],
            [
             0.3,
             "#f1b6da"
            ],
            [
             0.4,
             "#fde0ef"
            ],
            [
             0.5,
             "#f7f7f7"
            ],
            [
             0.6,
             "#e6f5d0"
            ],
            [
             0.7,
             "#b8e186"
            ],
            [
             0.8,
             "#7fbc41"
            ],
            [
             0.9,
             "#4d9221"
            ],
            [
             1,
             "#276419"
            ]
           ],
           "sequential": [
            [
             0,
             "#0d0887"
            ],
            [
             0.1111111111111111,
             "#46039f"
            ],
            [
             0.2222222222222222,
             "#7201a8"
            ],
            [
             0.3333333333333333,
             "#9c179e"
            ],
            [
             0.4444444444444444,
             "#bd3786"
            ],
            [
             0.5555555555555556,
             "#d8576b"
            ],
            [
             0.6666666666666666,
             "#ed7953"
            ],
            [
             0.7777777777777778,
             "#fb9f3a"
            ],
            [
             0.8888888888888888,
             "#fdca26"
            ],
            [
             1,
             "#f0f921"
            ]
           ],
           "sequentialminus": [
            [
             0,
             "#0d0887"
            ],
            [
             0.1111111111111111,
             "#46039f"
            ],
            [
             0.2222222222222222,
             "#7201a8"
            ],
            [
             0.3333333333333333,
             "#9c179e"
            ],
            [
             0.4444444444444444,
             "#bd3786"
            ],
            [
             0.5555555555555556,
             "#d8576b"
            ],
            [
             0.6666666666666666,
             "#ed7953"
            ],
            [
             0.7777777777777778,
             "#fb9f3a"
            ],
            [
             0.8888888888888888,
             "#fdca26"
            ],
            [
             1,
             "#f0f921"
            ]
           ]
          },
          "colorway": [
           "#636efa",
           "#EF553B",
           "#00cc96",
           "#ab63fa",
           "#FFA15A",
           "#19d3f3",
           "#FF6692",
           "#B6E880",
           "#FF97FF",
           "#FECB52"
          ],
          "font": {
           "color": "#2a3f5f"
          },
          "geo": {
           "bgcolor": "white",
           "lakecolor": "white",
           "landcolor": "#E5ECF6",
           "showlakes": true,
           "showland": true,
           "subunitcolor": "white"
          },
          "hoverlabel": {
           "align": "left"
          },
          "hovermode": "closest",
          "mapbox": {
           "style": "light"
          },
          "paper_bgcolor": "white",
          "plot_bgcolor": "#E5ECF6",
          "polar": {
           "angularaxis": {
            "gridcolor": "white",
            "linecolor": "white",
            "ticks": ""
           },
           "bgcolor": "#E5ECF6",
           "radialaxis": {
            "gridcolor": "white",
            "linecolor": "white",
            "ticks": ""
           }
          },
          "scene": {
           "xaxis": {
            "backgroundcolor": "#E5ECF6",
            "gridcolor": "white",
            "gridwidth": 2,
            "linecolor": "white",
            "showbackground": true,
            "ticks": "",
            "zerolinecolor": "white"
           },
           "yaxis": {
            "backgroundcolor": "#E5ECF6",
            "gridcolor": "white",
            "gridwidth": 2,
            "linecolor": "white",
            "showbackground": true,
            "ticks": "",
            "zerolinecolor": "white"
           },
           "zaxis": {
            "backgroundcolor": "#E5ECF6",
            "gridcolor": "white",
            "gridwidth": 2,
            "linecolor": "white",
            "showbackground": true,
            "ticks": "",
            "zerolinecolor": "white"
           }
          },
          "shapedefaults": {
           "line": {
            "color": "#2a3f5f"
           }
          },
          "ternary": {
           "aaxis": {
            "gridcolor": "white",
            "linecolor": "white",
            "ticks": ""
           },
           "baxis": {
            "gridcolor": "white",
            "linecolor": "white",
            "ticks": ""
           },
           "bgcolor": "#E5ECF6",
           "caxis": {
            "gridcolor": "white",
            "linecolor": "white",
            "ticks": ""
           }
          },
          "title": {
           "x": 0.05
          },
          "xaxis": {
           "automargin": true,
           "gridcolor": "white",
           "linecolor": "white",
           "ticks": "",
           "title": {
            "standoff": 15
           },
           "zerolinecolor": "white",
           "zerolinewidth": 2
          },
          "yaxis": {
           "automargin": true,
           "gridcolor": "white",
           "linecolor": "white",
           "ticks": "",
           "title": {
            "standoff": 15
           },
           "zerolinecolor": "white",
           "zerolinewidth": 2
          }
         }
        }
       }
      },
      "image/png": "[encoded data removed]",
      "text/html": [
       "<div>                            <div id=\"9f7b2e78-9eaa-447c-9169-5dfc97205c45\" class=\"plotly-graph-div\" style=\"height:525px; width:800px;\"></div>            <script type=\"text/javascript\">                require([\"plotly\"], function(Plotly) {                    window.PLOTLYENV=window.PLOTLYENV || {};                                    if (document.getElementById(\"9f7b2e78-9eaa-447c-9169-5dfc97205c45\")) {                    Plotly.newPlot(                        \"9f7b2e78-9eaa-447c-9169-5dfc97205c45\",                        [{\"customdata\": [[\"Scrypt\"], [\"PoS\"], [\"X13\"], [\"SHA-256\"], [\"Scrypt\"], [\"X11\"], [\"Scrypt\"], [\"Equihash\"], [\"SPoS\"], [\"X16RT\"], [\"ECC 256K1\"], [\"Scrypt\"], [\"IMesh\"], [\"HEX\"], [\"POS 3.0\"], [\"Quark\"], [\"SPL Token\"], [\"SHA3\"], [\"Loopchain\"], [\"BLAKE256\"], [\"BMW512 / Echo512\"], [\"Scrypt\"], [\"Scrypt\"], [\"Leased POS\"], [\"X13\"], [\"Scrypt\"], [\"Scrypt\"], [\"POS 3.0\"], [\"Scrypt\"], [\"Quark\"], [\"VBFT\"], [\"PoS\"], [\"X13\"], [\"X11\"], [\"BLAKE256\"], [\"X11\"], [\"X13\"], [\"Ouroboros\"], [\"Shabal256\"], [\"Quark\"], [\"X13\"], [\"BEP-2\"], [\"Equihash210,9\"]], \"hovertemplate\": \"<b>%{hovertext}</b><br><br>class=%{marker.color}<br>PC 1=%{x}<br>PC 2=%{y}<br>PC 3=%{z}<br>Algorithm=%{customdata[0]}<extra></extra>\", \"hovertext\": [\"NovaCoin\", \"NuShares\", \"Triangles Coin\", \"Emercoin\", \"SafeExchangeCoin\", \"Stakenet\", \"OpenChat\", \"Zelcash\", \"V Systems\", \"VEIL\", \"Acute Angle Cloud\", \"Auroracoin\", \"INT\", \"XDNA\", \"TokenPay\", \"QuarkCoin\", \"MAPS\", \"Nexus\", \"ICON Project\", \"HyperCash\", \"DigitalNote\", \"BlackCoin\", \"WhiteCoin\", \"Waves\", \"Stratis\", \"SaluS\", \"Reddcoin\", \"QTUM\", \"PotCoin\", \"Private Instant Verified Transaction\", \"Ontology\", \"Nxt\", \"NavCoin\", \"IOCoin\", \"Decred\", \"Dash\", \"CloakCoin\", \"Cardano\", \"BurstCoin\", \"BlockNet\", \"Bitcoin Diamond\", \"Binance Coin\", \"Aion\"], \"legendgroup\": \"1\", \"marker\": {\"color\": [1, 1, 1, 1, 1, 1, 1, 1, 1, 1, 1, 1, 1, 1, 1, 1, 1, 1, 1, 1, 1, 1, 1, 1, 1, 1, 1, 1, 1, 1, 1, 1, 1, 1, 1, 1, 1, 1, 1, 1, 1, 1, 1], \"coloraxis\": \"coloraxis\", \"symbol\": \"circle\"}, \"mode\": \"markers\", \"name\": \"1\", \"scene\": \"scene\", \"showlegend\": true, \"type\": \"scatter3d\", \"x\": [-1.235818966854998, -1.26921063279142, -1.9775671119341673, -0.28981222028456227, -0.8818684710309764, -1.1478636092464607, -1.2343531079585075, -0.7882608805347094, -1.8396162532882476, -1.9380276219616146, -1.880867864293653, -1.2357455600218852, -0.2998160640856037, -1.9394892993319648, -1.818428488838491, -1.963159603984113, -1.750023807184478, -1.8877718780630035, -1.8053882975774234, -1.9510296254920938, -1.926866625962485, -1.1582516377311411, -1.2320988214306623, -1.8885574580482185, -1.9001312190352584, -1.2358221493933403, -1.1915812184863837, -1.8181119778966854, -1.2344933254826962, -1.9634588682276413, -1.805093749440276, -0.9202952853233999, -1.977462455397545, -1.4845822697656026, -1.951226831097483, -1.148060169558536, -1.9775591201978011, -1.5446222758207755, -1.326416061235412, -1.9635442428484569, -1.9767745001701464, -1.8856253904363356, -1.9382749047452177], \"y\": [-0.7422729494532698, -0.012031242503256915, -0.6743941232246841, -0.20963702354920333, -0.5877545578531778, -0.5445487183216442, -0.7385480434408094, -0.7168302815070913, -0.1219178638745941, -0.7320808020559456, -0.26861402541065926, -0.7421473433787676, -0.47622026699492237, -0.7344057539042, 0.12949798693172926, -0.7432410550333711, -0.040463737887799646, -0.2950153652610756, 0.13399508547036415, -0.7388008480204, -0.700933538910034, -0.25768825008224927, -0.7357210206664744, -0.29595923351466125, -0.18985328119964018, -0.7422810366274385, -0.629860045816647, 0.13006197760661953, -0.7401229238531408, -0.7440015178464705, 0.13477615444700478, -0.24152873948089185, -0.6741281796419177, -0.6814512133938627, -0.7391191829176351, -0.5451676642896834, -0.6743738153552375, 0.5928238503272614, -0.4472634951691088, -0.7442184639926176, -0.6729892972552848, -0.28957659342675995, -0.7311854791205293], \"z\": [-0.3326475786530212, -0.48430153541455817, -0.3883484314188606, -0.1444109017163424, -0.2022936035551027, -0.07547166436106671, -0.33261299867802907, -0.23898968467559087, 1.8251908521460516, -0.34460586006199656, 1.8136914201116732, -0.332624827449645, 0.051079488977817854, -0.345237648786269, -0.6425993451442513, -0.3511578109558681, 2.5409938081967294, 1.8171552924917416, -0.637255421908263, -0.3480076773828426, -0.34489387525652665, -0.48069459090191796, -0.3315588901189504, 1.8115478441739097, -0.5364986372208772, -0.33264765372989064, -0.3316039991952746, -0.6425089791969112, -0.33219591610374, -0.35116487067360885, -0.6372474000058981, -0.26396458922680655, -0.38834596254620096, -0.2396265682008128, -0.3480753880629133, -0.0754397228290836, -0.388348242892818, -0.541356484510361, -0.08375743964679201, -0.3511668846820921, -0.3881195383409966, 1.8241461369288319, -0.34520457523054776]}, {\"customdata\": [[\"SHA-256\"], [\"Scrypt\"], [\"Scrypt\"], [\"RandomX\"], [\"Equihash\"], [\"X11\"], [\"SHA-256\"], [\"Equihash\"], [\"Ethash\"], [\"IMesh\"], [\"Equihash\"], [\"Equihash\"], [\"CryptoNight\"], [\"Eaglesong\"], [\"Blake2B + SHA3\"], [\"C31\"], [\"SHA-256\"], [\"X16R\"], [\"Scrypt\"], [\"SHA-256\"], [\"CryptoNight-Heavy\"], [\"Ethash\"], [\"SHA-256\"], [\"CryptoNight-Lite\"], [\"Multiple\"], [\"Equihash\"], [\"SHA-256\"], [\"C31\"], [\"Equihash\"], [\"Scrypt\"], [\"Lyra2REv2\"], [\"Multiple\"], [\"Dagger-Hashimoto\"], [\"PoS\"], [\"KECCAK\"], [\"X11GOST\"], [\"Blake2b\"], [\"Blake2b\"], [\"SHA-256\"], [\"RandomX\"], [\"Scrypt\"], [\"Scrypt\"], [\"Equihash\"], [\"Equihash\"], [\"Scrypt\"], [\"Groestl\"], [\"MTP\"], [\"NeoScrypt\"], [\"Ethash\"], [\"Ethash\"], [\"Ethash\"], [\"Scrypt\"], [\"Scrypt\"], [\"Multiple\"], [\"Tensority\"], [\"CryptoNight\"], [\"SHA-256\"], [\"Equihash\"], [\"SHA-256\"], [\"SHA-256\"]], \"hovertemplate\": \"<b>%{hovertext}</b><br><br>class=%{marker.color}<br>PC 1=%{x}<br>PC 2=%{y}<br>PC 3=%{z}<br>Algorithm=%{customdata[0]}<extra></extra>\", \"hovertext\": [\"CounterParty\", \"MonaCoin\", \"CometCoin\", \"Quantum Resistant Ledger\", \"BitcoinZ\", \"Pura\", \"UnitedBitcoin\", \"Bitcoin Private\", \"Callisto Network\", \"Aidos Kuneen\", \"Beam\", \"Bithereum\", \"Beldex\", \"Nervos Network\", \"Handshake\", \"MimbleWimbleCoin\", \"Arweave\", \"Ravencoin Classic\", \"Primas\", \"Bitcoin Vault\", \"Haven Protocol\", \"EtherZero\", \"Bitcoin ABC\", \"AEON\", \"Circuits of Value\", \"TENT\", \"SysCoin\", \"Grin\", \"ZCash\", \"ViaCoin\", \"Vertcoin\", \"Verge\", \"Ubiq\", \"Steem\", \"SmartCash\", \"SibCoin\", \"Siacoin\", \"Nano\", \"Namecoin\", \"Monero\", \"MegaCoin\", \"Litecoin\", \"Komodo\", \"Horizen\", \"Gulden\", \"Groestlcoin\", \"Firo\", \"FeatherCoin\", \"Expanse\", \"Ethereum Classic\", \"Ethereum\", \"Einsteinium\", \"Dogecoin\", \"DigiByte\", \"Bytom\", \"ByteCoin\", \"Bitcoin SV\", \"Bitcoin Gold\", \"Bitcoin Cash\", \"Bitcoin\"], \"legendgroup\": \"0\", \"marker\": {\"color\": [0, 0, 0, 0, 0, 0, 0, 0, 0, 0, 0, 0, 0, 0, 0, 0, 0, 0, 0, 0, 0, 0, 0, 0, 0, 0, 0, 0, 0, 0, 0, 0, 0, 0, 0, 0, 0, 0, 0, 0, 0, 0, 0, 0, 0, 0, 0, 0, 0, 0, 0, 0, 0, 0, 0, 0, 0, 0, 0, 0], \"coloraxis\": \"coloraxis\", \"symbol\": \"diamond\"}, \"mode\": \"markers\", \"name\": \"0\", \"scene\": \"scene\", \"showlegend\": true, \"type\": \"scatter3d\", \"x\": [1.6938205285402304, 0.7479940211446685, 0.7478759437083505, 1.457296699550019, 1.2575824253355166, 0.4993131551412472, 1.6938974658359822, 1.1943513585702181, 1.508072131023688, 0.9927576008598017, 1.195015722259273, 1.1943368091165811, 1.7143916699486577, 1.5269681783101552, 1.4571107194986368, 1.4569208956091138, 1.694067682493421, 1.5543022353089835, 0.7480217161434521, 1.6938840344774777, 1.447951329315041, 1.488633669463558, 1.693894064976392, 1.4479588691118068, 1.50182389782064, 0.03950415849456511, 1.6968228729839072, 1.456951963902672, 1.1943573846356355, 0.7479087385323315, 1.4484041093725852, 1.5627285653459817, 1.448041013585322, 0.6291888928900976, 1.4748219820967896, 1.4480472367746158, 1.5515973890543535, 1.4824937640376175, 1.6938422791958008, 1.456965201255549, 0.7480324716003394, 0.7481732811027622, 0.04020780478169058, 1.1943573555679519, 0.7526508838564391, 1.4485341727675416, 1.4480303560701422, 1.4498814713246317, 1.4885951828489299, 1.4889924198785982, 1.4884760589610269, 0.7482002733549983, 0.9373812926283033, 1.569958928095629, 1.4529513521887785, 2.421949107185063, 1.6938940734221801, 1.1943687686453381, 1.6938940761861014, 1.6938940395961504], \"y\": [-0.15067823285237042, -0.6828561515172846, -0.6831561990578578, -0.632502564664195, -0.5601070757007213, -0.6217611043681185, -0.15054365549043336, -0.659921794721153, -0.6099495885248426, -0.5885905590761473, -0.6589296883706791, -0.6598924018717802, -0.12261811466684006, -0.4194720757631686, -0.6152639982187819, -0.633134846579973, -0.15024167789293041, -0.4555628112725354, -0.6827857755297084, -0.15057778602521033, -0.6290052610004228, -0.640485961601458, -0.15055229744244458, -0.628985267319926, -0.5669231237952156, -0.6115446332287162, -0.14562536132897363, -0.6329978714200457, -0.6599010458779683, -0.6830728638599309, -0.6282388956602781, -0.46018984236619187, -0.6287674404462433, -0.45742715338467566, -0.5836018513405676, -0.6288595119987231, -0.38587042254818105, -0.5618568100750058, -0.1506229620838806, -0.6330402945560593, -0.6828803020046458, -0.6826443470795184, -0.6102779821663592, -0.6599011197420974, -0.6758968497087958, -0.6280025735411406, -0.6289063435359519, -0.6256241832352988, -0.6408738965678591, -0.6401856552060743, -0.6408864669365281, -0.6823320423413021, -0.2016026093637517, -0.4547132676409687, -0.6168321732532062, 1.1401474110118637, -0.15055227598078058, -0.6598721178779487, -0.15055226895735865, -0.1505523619363819], \"z\": [-0.024631051740924302, -0.21286347679075845, -0.212866262265771, -0.10984827838110137, -0.09693295042378448, -0.11986254207881343, -0.024608217253058853, -0.11942120910110127, -0.10448513222979831, -0.05674606736863261, -0.1191653872021399, -0.11944444717256959, -0.010454605545864663, -0.10694386724868353, -0.1048209400716594, -0.10998497639225975, -0.02455915997779996, -0.06476079875966045, -0.21286282345886853, -0.024608534102138084, -0.1090958599722793, -0.11144973132888723, -0.02460829748020329, -0.10909565462890375, -0.09723147004705016, -0.07446721469358862, -0.02367140040057127, -0.11000426207210216, -0.11942294227399788, -0.2128654886287389, -0.10891777413909923, -0.07922432795033058, -0.10909341745655099, -0.21655542059381744, -0.09849770637978922, -0.10905180933224952, -0.10749273792187615, -0.1089895374487926, -0.024630538637564665, -0.10996119609396779, -0.21282053070002385, -0.21277516993498563, -0.0742193414647683, -0.11942294295971172, -0.21107205888532893, -0.10887279327761044, -0.10905147976422257, -0.10838027513422424, -0.11135054629870406, -0.11123037249630369, -0.11145344939973886, -0.2128586112499537, -0.20839578407655787, -0.07460463080679988, -0.10854529995677918, 0.19087829258790764, -0.024608297280965148, -0.11942267372238488, -0.024608297215763516, -0.024608298078929416]}, {\"customdata\": [[\"Dagger\"], [\"Dagger\"], [\"VeChainThor Authority\"], [\"Proof-of-Authority\"]], \"hovertemplate\": \"<b>%{hovertext}</b><br><br>class=%{marker.color}<br>PC 1=%{x}<br>PC 2=%{y}<br>PC 3=%{z}<br>Algorithm=%{customdata[0]}<extra></extra>\", \"hovertext\": [\"Amber\", \"DAPS Coin\", \"VeChain\", \"Poa Network\"], \"legendgroup\": \"2\", \"marker\": {\"color\": [2, 2, 2, 2], \"coloraxis\": \"coloraxis\", \"symbol\": \"square\"}, \"mode\": \"markers\", \"name\": \"2\", \"scene\": \"scene\", \"showlegend\": true, \"type\": \"scatter3d\", \"x\": [-1.5369898525858923, -1.0268956468270019, 0.052550150632560855, -1.710682857620962], \"y\": [0.793565270760899, 1.7401148833512927, 4.550498712334444, 0.4121897485539441], \"z\": [5.8378137553982885, 6.00249104306931, 8.343007774613023, 5.708220841958422]}, {\"customdata\": [[\"SHA-512\"], [\"DPoS\"], [\"DPoS\"], [\"DPoS\"], [\"DPoS\"], [\"DPoS\"], [\"SHA-512\"], [\"DPoS\"], [\"DPoS\"]], \"hovertemplate\": \"<b>%{hovertext}</b><br><br>class=%{marker.color}<br>PC 1=%{x}<br>PC 2=%{y}<br>PC 3=%{z}<br>Algorithm=%{customdata[0]}<extra></extra>\", \"hovertext\": [\"Kcash\", \"ARK\", \"Rise\", \"Shift\", \"Lisk\", \"EOS\", \"Bitshares\", \"Oxycoin\", \"Achain\"], \"legendgroup\": \"4\", \"marker\": {\"color\": [4, 4, 4, 4, 4, 4, 4, 4, 4], \"coloraxis\": \"coloraxis\", \"symbol\": \"x\"}, \"mode\": \"markers\", \"name\": \"4\", \"scene\": \"scene\", \"showlegend\": true, \"type\": \"scatter3d\", \"x\": [-1.706359346364117, -1.5647178600969025, -1.7532795773593295, -1.5649260594857997, -1.5647365804386553, -1.5634355476113222, -1.5342216614527548, -1.5632972133665184, -1.5634771838379358], \"y\": [1.7521463648358802, 3.14018503988562, 1.411429627583529, 3.1396559827182817, 3.140137469472318, 3.1434435346144336, 2.8393268249473644, 3.143795056893577, 3.1433377324560703], \"z\": [-1.8084094805640396, -2.0705971525994777, -1.3448633347980583, -2.07060206407471, -2.0705975942169856, -2.0705669025298508, -1.988682290937079, -2.0705636391907, -2.0705678847377644]}, {\"customdata\": [[\"SHA-256\"], [\"TRC10\"]], \"hovertemplate\": \"<b>%{hovertext}</b><br><br>class=%{marker.color}<br>PC 1=%{x}<br>PC 2=%{y}<br>PC 3=%{z}<br>Algorithm=%{customdata[0]}<extra></extra>\", \"hovertext\": [\"Wibcoin\", \"BitTorrent\"], \"legendgroup\": \"3\", \"marker\": {\"color\": [3, 3], \"coloraxis\": \"coloraxis\", \"symbol\": \"cross\"}, \"mode\": \"markers\", \"name\": \"3\", \"scene\": \"scene\", \"showlegend\": true, \"type\": \"scatter3d\", \"x\": [5.540687090495559, 1.000470322625593], \"y\": [6.723214133910013, 9.801207936698246], \"z\": [1.0670636102149158, -2.0003462507357206]}],                        {\"coloraxis\": {\"colorbar\": {\"title\": {\"text\": \"class\"}}, \"colorscale\": [[0.0, \"#0d0887\"], [0.1111111111111111, \"#46039f\"], [0.2222222222222222, \"#7201a8\"], [0.3333333333333333, \"#9c179e\"], [0.4444444444444444, \"#bd3786\"], [0.5555555555555556, \"#d8576b\"], [0.6666666666666666, \"#ed7953\"], [0.7777777777777778, \"#fb9f3a\"], [0.8888888888888888, \"#fdca26\"], [1.0, \"#f0f921\"]]}, \"legend\": {\"title\": {\"text\": \"class\"}, \"tracegroupgap\": 0, \"x\": 0, \"y\": 1}, \"margin\": {\"t\": 60}, \"scene\": {\"domain\": {\"x\": [0.0, 1.0], \"y\": [0.0, 1.0]}, \"xaxis\": {\"title\": {\"text\": \"PC 1\"}}, \"yaxis\": {\"title\": {\"text\": \"PC 2\"}}, \"zaxis\": {\"title\": {\"text\": \"PC 3\"}}}, \"template\": {\"data\": {\"bar\": [{\"error_x\": {\"color\": \"#2a3f5f\"}, \"error_y\": {\"color\": \"#2a3f5f\"}, \"marker\": {\"line\": {\"color\": \"#E5ECF6\", \"width\": 0.5}}, \"type\": \"bar\"}], \"barpolar\": [{\"marker\": {\"line\": {\"color\": \"#E5ECF6\", \"width\": 0.5}}, \"type\": \"barpolar\"}], \"carpet\": [{\"aaxis\": {\"endlinecolor\": \"#2a3f5f\", \"gridcolor\": \"white\", \"linecolor\": \"white\", \"minorgridcolor\": \"white\", \"startlinecolor\": \"#2a3f5f\"}, \"baxis\": {\"endlinecolor\": \"#2a3f5f\", \"gridcolor\": \"white\", \"linecolor\": \"white\", \"minorgridcolor\": \"white\", \"startlinecolor\": \"#2a3f5f\"}, \"type\": \"carpet\"}], \"choropleth\": [{\"colorbar\": {\"outlinewidth\": 0, \"ticks\": \"\"}, \"type\": \"choropleth\"}], \"contour\": [{\"colorbar\": {\"outlinewidth\": 0, \"ticks\": \"\"}, \"colorscale\": [[0.0, \"#0d0887\"], [0.1111111111111111, \"#46039f\"], [0.2222222222222222, \"#7201a8\"], [0.3333333333333333, \"#9c179e\"], [0.4444444444444444, \"#bd3786\"], [0.5555555555555556, \"#d8576b\"], [0.6666666666666666, \"#ed7953\"], [0.7777777777777778, \"#fb9f3a\"], [0.8888888888888888, \"#fdca26\"], [1.0, \"#f0f921\"]], \"type\": \"contour\"}], \"contourcarpet\": [{\"colorbar\": {\"outlinewidth\": 0, \"ticks\": \"\"}, \"type\": \"contourcarpet\"}], \"heatmap\": [{\"colorbar\": {\"outlinewidth\": 0, \"ticks\": \"\"}, \"colorscale\": [[0.0, \"#0d0887\"], [0.1111111111111111, \"#46039f\"], [0.2222222222222222, \"#7201a8\"], [0.3333333333333333, \"#9c179e\"], [0.4444444444444444, \"#bd3786\"], [0.5555555555555556, \"#d8576b\"], [0.6666666666666666, \"#ed7953\"], [0.7777777777777778, \"#fb9f3a\"], [0.8888888888888888, \"#fdca26\"], [1.0, \"#f0f921\"]], \"type\": \"heatmap\"}], \"heatmapgl\": [{\"colorbar\": {\"outlinewidth\": 0, \"ticks\": \"\"}, \"colorscale\": [[0.0, \"#0d0887\"], [0.1111111111111111, \"#46039f\"], [0.2222222222222222, \"#7201a8\"], [0.3333333333333333, \"#9c179e\"], [0.4444444444444444, \"#bd3786\"], [0.5555555555555556, \"#d8576b\"], [0.6666666666666666, \"#ed7953\"], [0.7777777777777778, \"#fb9f3a\"], [0.8888888888888888, \"#fdca26\"], [1.0, \"#f0f921\"]], \"type\": \"heatmapgl\"}], \"histogram\": [{\"marker\": {\"colorbar\": {\"outlinewidth\": 0, \"ticks\": \"\"}}, \"type\": \"histogram\"}], \"histogram2d\": [{\"colorbar\": {\"outlinewidth\": 0, \"ticks\": \"\"}, \"colorscale\": [[0.0, \"#0d0887\"], [0.1111111111111111, \"#46039f\"], [0.2222222222222222, \"#7201a8\"], [0.3333333333333333, \"#9c179e\"], [0.4444444444444444, \"#bd3786\"], [0.5555555555555556, \"#d8576b\"], [0.6666666666666666, \"#ed7953\"], [0.7777777777777778, \"#fb9f3a\"], [0.8888888888888888, \"#fdca26\"], [1.0, \"#f0f921\"]], \"type\": \"histogram2d\"}], \"histogram2dcontour\": [{\"colorbar\": {\"outlinewidth\": 0, \"ticks\": \"\"}, \"colorscale\": [[0.0, \"#0d0887\"], [0.1111111111111111, \"#46039f\"], [0.2222222222222222, \"#7201a8\"], [0.3333333333333333, \"#9c179e\"], [0.4444444444444444, \"#bd3786\"], [0.5555555555555556, \"#d8576b\"], [0.6666666666666666, \"#ed7953\"], [0.7777777777777778, \"#fb9f3a\"], [0.8888888888888888, \"#fdca26\"], [1.0, \"#f0f921\"]], \"type\": \"histogram2dcontour\"}], \"mesh3d\": [{\"colorbar\": {\"outlinewidth\": 0, \"ticks\": \"\"}, \"type\": \"mesh3d\"}], \"parcoords\": [{\"line\": {\"colorbar\": {\"outlinewidth\": 0, \"ticks\": \"\"}}, \"type\": \"parcoords\"}], \"pie\": [{\"automargin\": true, \"type\": \"pie\"}], \"scatter\": [{\"marker\": {\"colorbar\": {\"outlinewidth\": 0, \"ticks\": \"\"}}, \"type\": \"scatter\"}], \"scatter3d\": [{\"line\": {\"colorbar\": {\"outlinewidth\": 0, \"ticks\": \"\"}}, \"marker\": {\"colorbar\": {\"outlinewidth\": 0, \"ticks\": \"\"}}, \"type\": \"scatter3d\"}], \"scattercarpet\": [{\"marker\": {\"colorbar\": {\"outlinewidth\": 0, \"ticks\": \"\"}}, \"type\": \"scattercarpet\"}], \"scattergeo\": [{\"marker\": {\"colorbar\": {\"outlinewidth\": 0, \"ticks\": \"\"}}, \"type\": \"scattergeo\"}], \"scattergl\": [{\"marker\": {\"colorbar\": {\"outlinewidth\": 0, \"ticks\": \"\"}}, \"type\": \"scattergl\"}], \"scattermapbox\": [{\"marker\": {\"colorbar\": {\"outlinewidth\": 0, \"ticks\": \"\"}}, \"type\": \"scattermapbox\"}], \"scatterpolar\": [{\"marker\": {\"colorbar\": {\"outlinewidth\": 0, \"ticks\": \"\"}}, \"type\": \"scatterpolar\"}], \"scatterpolargl\": [{\"marker\": {\"colorbar\": {\"outlinewidth\": 0, \"ticks\": \"\"}}, \"type\": \"scatterpolargl\"}], \"scatterternary\": [{\"marker\": {\"colorbar\": {\"outlinewidth\": 0, \"ticks\": \"\"}}, \"type\": \"scatterternary\"}], \"surface\": [{\"colorbar\": {\"outlinewidth\": 0, \"ticks\": \"\"}, \"colorscale\": [[0.0, \"#0d0887\"], [0.1111111111111111, \"#46039f\"], [0.2222222222222222, \"#7201a8\"], [0.3333333333333333, \"#9c179e\"], [0.4444444444444444, \"#bd3786\"], [0.5555555555555556, \"#d8576b\"], [0.6666666666666666, \"#ed7953\"], [0.7777777777777778, \"#fb9f3a\"], [0.8888888888888888, \"#fdca26\"], [1.0, \"#f0f921\"]], \"type\": \"surface\"}], \"table\": [{\"cells\": {\"fill\": {\"color\": \"#EBF0F8\"}, \"line\": {\"color\": \"white\"}}, \"header\": {\"fill\": {\"color\": \"#C8D4E3\"}, \"line\": {\"color\": \"white\"}}, \"type\": \"table\"}]}, \"layout\": {\"annotationdefaults\": {\"arrowcolor\": \"#2a3f5f\", \"arrowhead\": 0, \"arrowwidth\": 1}, \"autotypenumbers\": \"strict\", \"coloraxis\": {\"colorbar\": {\"outlinewidth\": 0, \"ticks\": \"\"}}, \"colorscale\": {\"diverging\": [[0, \"#8e0152\"], [0.1, \"#c51b7d\"], [0.2, \"#de77ae\"], [0.3, \"#f1b6da\"], [0.4, \"#fde0ef\"], [0.5, \"#f7f7f7\"], [0.6, \"#e6f5d0\"], [0.7, \"#b8e186\"], [0.8, \"#7fbc41\"], [0.9, \"#4d9221\"], [1, \"#276419\"]], \"sequential\": [[0.0, \"#0d0887\"], [0.1111111111111111, \"#46039f\"], [0.2222222222222222, \"#7201a8\"], [0.3333333333333333, \"#9c179e\"], [0.4444444444444444, \"#bd3786\"], [0.5555555555555556, \"#d8576b\"], [0.6666666666666666, \"#ed7953\"], [0.7777777777777778, \"#fb9f3a\"], [0.8888888888888888, \"#fdca26\"], [1.0, \"#f0f921\"]], \"sequentialminus\": [[0.0, \"#0d0887\"], [0.1111111111111111, \"#46039f\"], [0.2222222222222222, \"#7201a8\"], [0.3333333333333333, \"#9c179e\"], [0.4444444444444444, \"#bd3786\"], [0.5555555555555556, \"#d8576b\"], [0.6666666666666666, \"#ed7953\"], [0.7777777777777778, \"#fb9f3a\"], [0.8888888888888888, \"#fdca26\"], [1.0, \"#f0f921\"]]}, \"colorway\": [\"#636efa\", \"#EF553B\", \"#00cc96\", \"#ab63fa\", \"#FFA15A\", \"#19d3f3\", \"#FF6692\", \"#B6E880\", \"#FF97FF\", \"#FECB52\"], \"font\": {\"color\": \"#2a3f5f\"}, \"geo\": {\"bgcolor\": \"white\", \"lakecolor\": \"white\", \"landcolor\": \"#E5ECF6\", \"showlakes\": true, \"showland\": true, \"subunitcolor\": \"white\"}, \"hoverlabel\": {\"align\": \"left\"}, \"hovermode\": \"closest\", \"mapbox\": {\"style\": \"light\"}, \"paper_bgcolor\": \"white\", \"plot_bgcolor\": \"#E5ECF6\", \"polar\": {\"angularaxis\": {\"gridcolor\": \"white\", \"linecolor\": \"white\", \"ticks\": \"\"}, \"bgcolor\": \"#E5ECF6\", \"radialaxis\": {\"gridcolor\": \"white\", \"linecolor\": \"white\", \"ticks\": \"\"}}, \"scene\": {\"xaxis\": {\"backgroundcolor\": \"#E5ECF6\", \"gridcolor\": \"white\", \"gridwidth\": 2, \"linecolor\": \"white\", \"showbackground\": true, \"ticks\": \"\", \"zerolinecolor\": \"white\"}, \"yaxis\": {\"backgroundcolor\": \"#E5ECF6\", \"gridcolor\": \"white\", \"gridwidth\": 2, \"linecolor\": \"white\", \"showbackground\": true, \"ticks\": \"\", \"zerolinecolor\": \"white\"}, \"zaxis\": {\"backgroundcolor\": \"#E5ECF6\", \"gridcolor\": \"white\", \"gridwidth\": 2, \"linecolor\": \"white\", \"showbackground\": true, \"ticks\": \"\", \"zerolinecolor\": \"white\"}}, \"shapedefaults\": {\"line\": {\"color\": \"#2a3f5f\"}}, \"ternary\": {\"aaxis\": {\"gridcolor\": \"white\", \"linecolor\": \"white\", \"ticks\": \"\"}, \"baxis\": {\"gridcolor\": \"white\", \"linecolor\": \"white\", \"ticks\": \"\"}, \"bgcolor\": \"#E5ECF6\", \"caxis\": {\"gridcolor\": \"white\", \"linecolor\": \"white\", \"ticks\": \"\"}}, \"title\": {\"x\": 0.05}, \"xaxis\": {\"automargin\": true, \"gridcolor\": \"white\", \"linecolor\": \"white\", \"ticks\": \"\", \"title\": {\"standoff\": 15}, \"zerolinecolor\": \"white\", \"zerolinewidth\": 2}, \"yaxis\": {\"automargin\": true, \"gridcolor\": \"white\", \"linecolor\": \"white\", \"ticks\": \"\", \"title\": {\"standoff\": 15}, \"zerolinecolor\": \"white\", \"zerolinewidth\": 2}}}, \"width\": 800},                        {\"responsive\": true}                    ).then(function(){\n",
       "                            \n",
       "var gd = document.getElementById('9f7b2e78-9eaa-447c-9169-5dfc97205c45');\n",
       "var x = new MutationObserver(function (mutations, observer) {{\n",
       "        var display = window.getComputedStyle(gd).display;\n",
       "        if (!display || display === 'none') {{\n",
       "            console.log([gd, 'removed!']);\n",
       "            Plotly.purge(gd);\n",
       "            observer.disconnect();\n",
       "        }}\n",
       "}});\n",
       "\n",
       "// Listen for the removal of the full notebook cells\n",
       "var notebookContainer = gd.closest('#notebook-container');\n",
       "if (notebookContainer) {{\n",
       "    x.observe(notebookContainer, {childList: true});\n",
       "}}\n",
       "\n",
       "// Listen for the clearing of the current output cell\n",
       "var outputEl = gd.closest('.output');\n",
       "if (outputEl) {{\n",
       "    x.observe(outputEl, {childList: true});\n",
       "}}\n",
       "\n",
       "                        })                };                });            </script>        </div>"
      ]
     },
     "metadata": {},
     "output_type": "display_data"
    }
   ],
   "source": [
    "# Create a 3D-Scatter with the PCA data and the clusters\n",
    "fig = px.scatter_3d(\n",
    "    clustered_df,\n",
    "    x=\"PC 1\",\n",
    "    y=\"PC 2\",\n",
    "    z=\"PC 3\",\n",
    "    color=\"class\",\n",
    "    symbol=\"class\",\n",
    "    width=800,\n",
    "    hover_name=\"CoinName\",\n",
    "    hover_data=[\"Algorithm\"],\n",
    ")\n",
    "fig.update_layout(legend=dict(x=0, y=1))\n",
    "fig.show()"
   ]
  },
  {
   "cell_type": "markdown",
   "metadata": {},
   "source": [
    "#### Table of Tradable Cryptocurrencies"
   ]
  },
  {
   "cell_type": "code",
   "execution_count": 60,
   "metadata": {},
   "outputs": [
    {
     "name": "stderr",
     "output_type": "stream",
     "text": [
      "/opt/anaconda3/envs/pyvizenv/lib/python3.7/site-packages/ipykernel_launcher.py:3: SettingWithCopyWarning:\n",
      "\n",
      "\n",
      "A value is trying to be set on a copy of a slice from a DataFrame.\n",
      "Try using .loc[row_indexer,col_indexer] = value instead\n",
      "\n",
      "See the caveats in the documentation: http://pandas.pydata.org/pandas-docs/stable/indexing.html#indexing-view-versus-copy\n",
      "\n",
      "/opt/anaconda3/envs/pyvizenv/lib/python3.7/site-packages/ipykernel_launcher.py:4: SettingWithCopyWarning:\n",
      "\n",
      "\n",
      "A value is trying to be set on a copy of a slice from a DataFrame.\n",
      "Try using .loc[row_indexer,col_indexer] = value instead\n",
      "\n",
      "See the caveats in the documentation: http://pandas.pydata.org/pandas-docs/stable/indexing.html#indexing-view-versus-copy\n",
      "\n"
     ]
    },
    {
     "data": {},
     "metadata": {},
     "output_type": "display_data"
    },
    {
     "data": {
      "application/vnd.holoviews_exec.v0+json": "",
      "text/html": [
       "<div id='1942'>\n",
       "\n",
       "\n",
       "\n",
       "\n",
       "\n",
       "  <div class=\"bk-root\" id=\"2babae07-bb90-4930-8a49-f6084b8565e3\" data-root-id=\"1942\"></div>\n",
       "</div>\n",
       "<script type=\"application/javascript\">(function(root) {\n",
       "  function embed_document(root) {\n",
       "    var docs_json = {\"c5d15bef-3379-4c1e-a93b-671fa8bb0666\":{\"roots\":{\"references\":[{\"attributes\":{\"editor\":{\"id\":\"1952\"},\"field\":\"Algorithm\",\"formatter\":{\"id\":\"1951\"},\"title\":\"Algorithm\"},\"id\":\"1953\",\"type\":\"TableColumn\"},{\"attributes\":{},\"id\":\"1979\",\"type\":\"UnionRenderers\"},{\"attributes\":{\"source\":{\"id\":\"1944\"}},\"id\":\"1977\",\"type\":\"CDSView\"},{\"attributes\":{},\"id\":\"1961\",\"type\":\"StringFormatter\"},{\"attributes\":{},\"id\":\"1945\",\"type\":\"Selection\"},{\"attributes\":{},\"id\":\"1957\",\"type\":\"StringEditor\"},{\"attributes\":{},\"id\":\"1971\",\"type\":\"NumberFormatter\"},{\"attributes\":{\"editor\":{\"id\":\"1947\"},\"field\":\"CoinName\",\"formatter\":{\"id\":\"1946\"},\"title\":\"CoinName\"},\"id\":\"1948\",\"type\":\"TableColumn\"},{\"attributes\":{\"data\":{\"Algorithm\":[\"Scrypt\",\"SHA-256\",\"PoS\",\"Scrypt\",\"X13\",\"SHA-256\",\"Scrypt\",\"Scrypt\",\"X11\",\"Scrypt\",\"RandomX\",\"Dagger\",\"Equihash\",\"X11\",\"SHA-256\",\"Equihash\",\"Ethash\",\"IMesh\",\"Equihash\",\"SHA-512\",\"Dagger\",\"Equihash\",\"Equihash\",\"SPoS\",\"CryptoNight\",\"Eaglesong\",\"X16RT\",\"Blake2B + SHA3\",\"C31\",\"SHA-256\",\"X16R\",\"ECC 256K1\",\"Scrypt\",\"SHA-256\",\"Scrypt\",\"IMesh\",\"HEX\",\"SHA-256\",\"POS 3.0\",\"CryptoNight-Heavy\",\"Ethash\",\"SHA-256\",\"Quark\",\"CryptoNight-Lite\",\"TRC10\",\"Multiple\",\"SPL Token\",\"Equihash\",\"DPoS\",\"SHA-256\",\"VeChainThor Authority\",\"DPoS\",\"SHA3\",\"Loopchain\",\"BLAKE256\",\"C31\",\"BMW512 / Echo512\",\"Scrypt\",\"Equihash\",\"Scrypt\",\"Leased POS\",\"Scrypt\",\"Lyra2REv2\",\"Multiple\",\"Dagger-Hashimoto\",\"X13\",\"PoS\",\"KECCAK\",\"X11GOST\",\"Blake2b\",\"DPoS\",\"Scrypt\",\"Scrypt\",\"POS 3.0\",\"Scrypt\",\"Proof-of-Authority\",\"Quark\",\"VBFT\",\"PoS\",\"X13\",\"Blake2b\",\"SHA-256\",\"RandomX\",\"Scrypt\",\"Scrypt\",\"DPoS\",\"Equihash\",\"X11\",\"Equihash\",\"Scrypt\",\"Groestl\",\"MTP\",\"NeoScrypt\",\"Ethash\",\"Ethash\",\"Ethash\",\"DPoS\",\"Scrypt\",\"Scrypt\",\"Multiple\",\"BLAKE256\",\"X11\",\"X13\",\"Ouroboros\",\"Tensority\",\"CryptoNight\",\"Shabal256\",\"Quark\",\"SHA-512\",\"SHA-256\",\"Equihash\",\"X13\",\"SHA-256\",\"SHA-256\",\"BEP-2\",\"Equihash210,9\",\"DPoS\",\"DPoS\"],\"CoinName\":[\"NovaCoin\",\"CounterParty\",\"NuShares\",\"MonaCoin\",\"Triangles Coin\",\"Emercoin\",\"SafeExchangeCoin\",\"CometCoin\",\"Stakenet\",\"OpenChat\",\"Quantum Resistant Ledger\",\"Amber\",\"BitcoinZ\",\"Pura\",\"UnitedBitcoin\",\"Bitcoin Private\",\"Callisto Network\",\"Aidos Kuneen\",\"Zelcash\",\"Kcash\",\"DAPS Coin\",\"Beam\",\"Bithereum\",\"V Systems\",\"Beldex\",\"Nervos Network\",\"VEIL\",\"Handshake\",\"MimbleWimbleCoin\",\"Arweave\",\"Ravencoin Classic\",\"Acute Angle Cloud\",\"Primas\",\"Bitcoin Vault\",\"Auroracoin\",\"INT\",\"XDNA\",\"Wibcoin\",\"TokenPay\",\"Haven Protocol\",\"EtherZero\",\"Bitcoin ABC\",\"QuarkCoin\",\"AEON\",\"BitTorrent\",\"Circuits of Value\",\"MAPS\",\"TENT\",\"ARK\",\"SysCoin\",\"VeChain\",\"Rise\",\"Nexus\",\"ICON Project\",\"HyperCash\",\"Grin\",\"DigitalNote\",\"BlackCoin\",\"ZCash\",\"WhiteCoin\",\"Waves\",\"ViaCoin\",\"Vertcoin\",\"Verge\",\"Ubiq\",\"Stratis\",\"Steem\",\"SmartCash\",\"SibCoin\",\"Siacoin\",\"Shift\",\"SaluS\",\"Reddcoin\",\"QTUM\",\"PotCoin\",\"Poa Network\",\"Private Instant Verified Transaction\",\"Ontology\",\"Nxt\",\"NavCoin\",\"Nano\",\"Namecoin\",\"Monero\",\"MegaCoin\",\"Litecoin\",\"Lisk\",\"Komodo\",\"IOCoin\",\"Horizen\",\"Gulden\",\"Groestlcoin\",\"Firo\",\"FeatherCoin\",\"Expanse\",\"Ethereum Classic\",\"Ethereum\",\"EOS\",\"Einsteinium\",\"Dogecoin\",\"DigiByte\",\"Decred\",\"Dash\",\"CloakCoin\",\"Cardano\",\"Bytom\",\"ByteCoin\",\"BurstCoin\",\"BlockNet\",\"Bitshares\",\"Bitcoin SV\",\"Bitcoin Gold\",\"Bitcoin Diamond\",\"Bitcoin Cash\",\"Bitcoin\",\"Binance Coin\",\"Aion\",\"Oxycoin\",\"Achain\"],\"MaxSupply\":{\"__ndarray__\":\"AAAAAAAA8L8AAAAAAADwvwAAAAAAAAAAAAAAAAAA8L8AAAAAAAAAAAAAAAAAAPC/AAAAAAAA8L8AAAAAAAAAAAAAAAAAAPC/AAAAAAAA8L8AAAAAsQiZQQAAAAAAAPC/AAAASMqOE0IAAAAAAADwvwAAAAD0BnRBAAAAQF/QdUEAAAAQ4jb4QQAAAAAAAAAAAAAAALEIqUEAAAAAAADwvwAAADxTTDBCAAAAAAVUr0EAAAAAAAAAAAAAAAAAAPC/AAAAAAAA8L8AAAAAAADwvwAAAACj4bFBAAAAgPtl3kEAAAAA0BJzQQAAAACkeI9BAAAASMqOE0IAAAAAAADwvwAAAAAAAPC/AAAAAPQGdEEAAAAA9AZ0QQAAAABlzc1BAAAAAAAAAADsDROLtBptQgAAAACE13dBAAAAAAAA8L8AAAAAAADwv+Vhof/zBnRBAAAAAAAA8L8AAAAAAADwvwAAAAAAAPC/AAAAAAAA8L8AAAAgX6ACQgAAAADQDJRBAAAAAAAA8L8AAAAA53bKQQAAYsx5MDRCAAAAAAAA8L8AAAAAvpiSQQAAAAAAAPC/AAAAAPQGlEEAAAAAAADwvwAAAAAAAPC/AAAAAITXl0EAAAAA9AZ0QQAAAABlzc1BAAAAAAAA8L8AAAAAAADwvwAAAAD0BpRBAAAABgrWDkIAAAAAAADwvwAAAAAAAPC/AAAAAAAA8L8AAAAgX6DyQQAAAAD0BnRBAAAAAAAA8L8AAAAAAADwvwAAAAAAAPC/AAAAAAAA8L8AAAAJ9bSZQQAAAACxCLlBAAAAAAAA8L8AAAAAAADwvwAAAAAAAPC/AAAAAGXNzUEAAAAAAADwvwAAAIjUxJ9BAAAAAAAA8L8AAAAAAADwvwAAAAD0BoRBAAAAAPQGlEEAAAAAAADwvwAAAACE16dBAAAAABj7dEEAAAAA9AZ0QQAAAACxCNlBAAAAALEImUEAAAAAnGh0QQAAAAD0BrRBAAAAAITXl0EAAADADR6pQQAAAAAAAPC/AAAAAAAA8L8AAAAAAADwvwAAAAAAAPC/AAAASMqOE0IAAAAA9AZ0QQAAAABCBnJBAAAAAAAA8L8AAAAEa/QkQgAAAACxCKlBAADAaKJ5RUIAAADQmxXgQQAAAAAAAPC/AADAEIvT6kHlYaH/8wZ0QQAAAAD0BnRBAAAAALEIqUHlYaH/8wZ0QeVhof/zBnRBzczMJ0ZUpEEAAAAAAADwvwAAAAAAAPC/AAAAAAAAAAA=\",\"dtype\":\"float64\",\"order\":\"little\",\"shape\":[118]},\"ProofType\":[\"PoW/PoS\",\"PoW\",\"PoS\",\"PoW\",\"PoW/PoS\",\"PoW/PoS\",\"PoC\",\"PoW\",\"TPoS\",\"PoW/PoS\",\"PoW\",\"PoA\",\"PoW\",\"PoW\",\"PoW\",\"PoW\",\"PoW\",\"PoW\",\"PoW/PoS\",\"Zero-Knowledge Proof\",\" PoW/PoS/PoA\",\"PoW\",\"PoW\",\"SPoS\",\"PoW\",\"PoW\",\"PoW/PoS\",\"PoW\",\"PoW\",\"PoW\",\"PoW\",\"DPOS\",\"PoW\",\"PoW\",\"PoW/PoS\",\"DPoS+dBFT\",\"PoW/PoS\",\"PoW\",\"PoS\",\"PoW\",\"PoW\",\"PoW\",\"PoW/PoS\",\"PoW\",\"DPoS\",\"PoW\",\"PoH\",\"mPoW\",\"DPoS\",\"PoW\",\"Proof of Authority\",\"PoS\",\"PoW/nPoS\",\"PoS\",\"PoW/PoS\",\"PoW\",\"PoW/PoS\",\"PoS\",\"PoW\",\"PoW/PoS\",\"LPoS\",\"PoW\",\"PoW\",\"PoW\",\"PoW\",\"PoS\",\"PoW\",\"PoW\",\"PoW\",\"PoW\",\"DPoS\",\"PoW/PoS\",\"PoW/PoS\",\"PoS\",\"PoW/PoS\",\"PoA\",\"PoW/PoS\",\"PoS\",\"PoS/LPoS\",\"PoW/PoS\",\"PoW\",\"PoW\",\"PoW\",\"PoW\",\"PoW\",\"DPoS\",\"dPoW/PoW\",\"PoW/PoS\",\"PoW\",\"PoW\",\"PoW\",\"PoW\",\"PoW\",\"PoW\",\"PoW\",\"PoW\",\"DPoS\",\"PoW\",\"PoW\",\"PoW\",\"PoW/PoS\",\"PoW/PoSe\",\"PoW/PoS\",\"PoS\",\"PoW\",\"PoW\",\"PoC\",\"PoW/PoS\",\"DPoS\",\"PoW\",\"PoW\",\"PoW/PoS\",\"PoW\",\"PoW\",\"PoSA\",\"PoW/PoS\",\"DPoS\",\"DPoS\"],\"TotalCoinsMined\":{\"__ndarray__\":\"8pVAQJdjSEGfymmslPNDQdcSYbp80PVBsOXi9Qpak0HcZirkC14FQZayDDDpgoZBAADA////30EAAAAA/KIqQQ63BwCXV5xBAAAAAGXNzUGgdAFuJI6RQQAAAIHSy8RBnARV7rz1AELo7K2BQnSmQQAAAAD0BnRBJHujMb8iTUE+ix4uI+PlQQAAAACE13dBAAAAAN45ukEAAAAAZc3NQQAA8MaSAi1CM2ZnoncwkEEAAAAAh3R9QQAAsOj7nfVBAACA5Gzd1EE1yrNBolEdQqBuXksOTplB/b3I2c7OtUFGDmwbAnFkQUZ7QoDGiI5BAAAAu8pp/0EAAAAAZc3NQQAAAACE15dBf///fzCiZkH3KOPD1EpyQVnVSVAJ1b1BAAAAoOXXYEHsDROLtBptQgAAAJDk3XRBj1Mlr3dBbEGamZm97YSqQd0/Wa5Y0nFBY3EIHuIKsEG1Oun+w/1wQS0mGED9z2xCbDeWaul32kEAAAAAo+GRQQAAAIDfNYBBAQAAOKCiokF1ku7O9SjCQQAAGZsbBTRChevRvu3lpEEVjYVSeLmQQdu84jyBTspBBOahKvF9hUFovPSqOpiOQWCXfLIpwvJBXpbFpi/ijEFJ1gKV1d9kQQAAADOoVMtBAAAA6M73mEEO+Pniphl2QcF3iIZSUYxBNHML49qfDkJJ7NTU/heIQQAAAKD7755BBoH1c4ibtkEjHaxqfqPjQfOirVp8MHJBAACAGlwLJkIAAAAA+h9sQRslVFnNgi9BcpXL5e0EHEIAAABAxp+YQYzdpWpm8KpBcMyA4o0NsUH5HP8QUU2PQQAAAABlzc1BQAb4u8PFzUGEblg0bAKRQQAAAIjUxJ9BAAAASHeZcEFHkHuuRwxxQTvecS1Nz4JBHRPvGKQNkEEAAAB8Ih6hQabW3aBHQp5BceuWzz3pcUEAAADILtZkQW8UacVFyL9Bpq+MF8ZqkkGiRuFYB1NmQTH1Axx8q6xBXI/C/+GLgEHYI7PiUAeeQdv5/pRHfJtBFND8LmilzkH5//98PWWqQQe0n1ASAT5CZNNvPWtnCkKt0iejSFtoQV4z1smzMGNBv7GtKw5mVUGo0erc4c8dQgAAYHSI1dhBOoww4o55RUIAAIA3/nffQcRBYfda81xBpDZcTEtQ5kGbzU6iv9NxQWkvxong0XFBAAAA8zvSp0H6P1kaNdRxQQAAAAAiznFBzczMJ0ZUpEEAAABC11m9QRSu13KMudBBAAAAAGXNzUE=\",\"dtype\":\"float64\",\"order\":\"little\",\"shape\":[118]},\"class\":{\"__ndarray__\":\"AQAAAAAAAAABAAAAAAAAAAEAAAABAAAAAQAAAAAAAAABAAAAAQAAAAAAAAACAAAAAAAAAAAAAAAAAAAAAAAAAAAAAAAAAAAAAQAAAAQAAAACAAAAAAAAAAAAAAABAAAAAAAAAAAAAAABAAAAAAAAAAAAAAAAAAAAAAAAAAEAAAAAAAAAAAAAAAEAAAABAAAAAQAAAAMAAAABAAAAAAAAAAAAAAAAAAAAAQAAAAAAAAADAAAAAAAAAAEAAAAAAAAABAAAAAAAAAACAAAABAAAAAEAAAABAAAAAQAAAAAAAAABAAAAAQAAAAAAAAABAAAAAQAAAAAAAAAAAAAAAAAAAAAAAAABAAAAAAAAAAAAAAAAAAAAAAAAAAQAAAABAAAAAQAAAAEAAAABAAAAAgAAAAEAAAABAAAAAQAAAAEAAAAAAAAAAAAAAAAAAAAAAAAAAAAAAAQAAAAAAAAAAQAAAAAAAAAAAAAAAAAAAAAAAAAAAAAAAAAAAAAAAAAAAAAABAAAAAAAAAAAAAAAAAAAAAEAAAABAAAAAQAAAAEAAAAAAAAAAAAAAAEAAAABAAAABAAAAAAAAAAAAAAAAQAAAAAAAAAAAAAAAQAAAAEAAAAEAAAABAAAAA==\",\"dtype\":\"int32\",\"order\":\"little\",\"shape\":[118]}},\"selected\":{\"id\":\"1945\"},\"selection_policy\":{\"id\":\"1979\"}},\"id\":\"1944\",\"type\":\"ColumnDataSource\"},{\"attributes\":{\"editor\":{\"id\":\"1972\"},\"field\":\"class\",\"formatter\":{\"id\":\"1971\"},\"title\":\"class\"},\"id\":\"1973\",\"type\":\"TableColumn\"},{\"attributes\":{},\"id\":\"1947\",\"type\":\"StringEditor\"},{\"attributes\":{\"margin\":[5,5,5,5],\"name\":\"HSpacer03704\",\"sizing_mode\":\"stretch_width\"},\"id\":\"1943\",\"type\":\"Spacer\"},{\"attributes\":{\"editor\":{\"id\":\"1967\"},\"field\":\"TotalCoinsMined\",\"formatter\":{\"id\":\"1966\"},\"title\":\"TotalCoinsMined\"},\"id\":\"1968\",\"type\":\"TableColumn\"},{\"attributes\":{},\"id\":\"1946\",\"type\":\"StringFormatter\"},{\"attributes\":{},\"id\":\"1951\",\"type\":\"StringFormatter\"},{\"attributes\":{\"margin\":[5,5,5,5],\"name\":\"HSpacer03705\",\"sizing_mode\":\"stretch_width\"},\"id\":\"1982\",\"type\":\"Spacer\"},{\"attributes\":{},\"id\":\"1967\",\"type\":\"StringEditor\"},{\"attributes\":{},\"id\":\"1956\",\"type\":\"StringFormatter\"},{\"attributes\":{\"columns\":[{\"id\":\"1948\"},{\"id\":\"1953\"},{\"id\":\"1958\"},{\"id\":\"1963\"},{\"id\":\"1968\"},{\"id\":\"1973\"}],\"height\":300,\"reorderable\":false,\"source\":{\"id\":\"1944\"},\"view\":{\"id\":\"1977\"},\"width\":700},\"id\":\"1976\",\"type\":\"DataTable\"},{\"attributes\":{\"editor\":{\"id\":\"1957\"},\"field\":\"ProofType\",\"formatter\":{\"id\":\"1956\"},\"title\":\"ProofType\"},\"id\":\"1958\",\"type\":\"TableColumn\"},{\"attributes\":{},\"id\":\"1972\",\"type\":\"IntEditor\"},{\"attributes\":{\"children\":[{\"id\":\"1943\"},{\"id\":\"1976\"},{\"id\":\"1982\"}],\"margin\":[0,0,0,0],\"name\":\"Row03700\",\"tags\":[\"embedded\"]},\"id\":\"1942\",\"type\":\"Row\"},{\"attributes\":{},\"id\":\"1962\",\"type\":\"StringEditor\"},{\"attributes\":{},\"id\":\"1952\",\"type\":\"StringEditor\"},{\"attributes\":{},\"id\":\"1966\",\"type\":\"StringFormatter\"},{\"attributes\":{\"editor\":{\"id\":\"1962\"},\"field\":\"MaxSupply\",\"formatter\":{\"id\":\"1961\"},\"title\":\"MaxSupply\"},\"id\":\"1963\",\"type\":\"TableColumn\"}],\"root_ids\":[\"1942\"]},\"title\":\"Bokeh Application\",\"version\":\"2.2.3\"}};\n",
       "    var render_items = [{\"docid\":\"c5d15bef-3379-4c1e-a93b-671fa8bb0666\",\"root_ids\":[\"1942\"],\"roots\":{\"1942\":\"2babae07-bb90-4930-8a49-f6084b8565e3\"}}];\n",
       "    root.Bokeh.embed.embed_items_notebook(docs_json, render_items);\n",
       "  }\n",
       "  if (root.Bokeh !== undefined && root.Bokeh.Panel !== undefined) {\n",
       "    embed_document(root);\n",
       "  } else {\n",
       "    var attempts = 0;\n",
       "    var timer = setInterval(function(root) {\n",
       "      if (root.Bokeh !== undefined && root.Bokeh.Panel !== undefined) {\n",
       "        clearInterval(timer);\n",
       "        embed_document(root);\n",
       "      } else if (document.readyState == \"complete\") {\n",
       "        attempts++;\n",
       "        if (attempts > 100) {\n",
       "          clearInterval(timer);\n",
       "          console.log(\"Bokeh: ERROR: Unable to run BokehJS code because BokehJS library is missing\");\n",
       "        }\n",
       "      }\n",
       "    }, 10, root)\n",
       "  }\n",
       "})(window);</script>"
      ],
      "text/plain": [
       ":Table   [CoinName,Algorithm,ProofType,MaxSupply,TotalCoinsMined,class]"
      ]
     },
     "execution_count": 60,
     "metadata": {
      "application/vnd.holoviews_exec.v0+json": {
       "id": "1942"
      }
     },
     "output_type": "execute_result"
    }
   ],
   "source": [
    "# Table with tradable cryptos\n",
    "# Convert \n",
    "c_df[\"TotalCoinsMined\"] = c_df.TotalCoinsMined.astype(float)\n",
    "c_df[\"MaxSupply\"] = c_df.MaxSupply.astype(float)\n",
    "pd.set_option('display.float_format','{:.2f}'.format)\n",
    "\n",
    "clustered_df.hvplot.table(columns=[\"CoinName\", \n",
    "                                   \"Algorithm\",\n",
    "                                   \"ProofType\", \n",
    "                                   \"MaxSupply\", \n",
    "                                   \"TotalCoinsMined\", \n",
    "                                   \"class\"],\n",
    "                            sortable=True, \n",
    "                            selectable=True)"
   ]
  },
  {
   "cell_type": "code",
   "execution_count": 61,
   "metadata": {},
   "outputs": [
    {
     "name": "stdout",
     "output_type": "stream",
     "text": [
      "The total number of tradable cryptocurrencies: 118\n"
     ]
    }
   ],
   "source": [
    "# Print the total number of tradable cryptocurrencies\n",
    "print(f\"The total number of tradable cryptocurrencies: {clustered_df.CoinName.count()}\")"
   ]
  },
  {
   "cell_type": "markdown",
   "metadata": {},
   "source": [
    "#### Scatter Plot with Tradable Cryptocurrencies"
   ]
  },
  {
   "cell_type": "code",
   "execution_count": 62,
   "metadata": {},
   "outputs": [
    {
     "data": {},
     "metadata": {},
     "output_type": "display_data"
    },
    {
     "data": {
      "application/vnd.holoviews_exec.v0+json": "",
      "text/html": [
       "<div id='1994'>\n",
       "\n",
       "\n",
       "\n",
       "\n",
       "\n",
       "  <div class=\"bk-root\" id=\"10465218-bf1f-4239-a2d4-9e8c1d279d4b\" data-root-id=\"1994\"></div>\n",
       "</div>\n",
       "<script type=\"application/javascript\">(function(root) {\n",
       "  function embed_document(root) {\n",
       "    var docs_json = {\"0837ef60-007a-488b-83d8-4ba4a3592ff7\":{\"roots\":{\"references\":[{\"attributes\":{\"callback\":null,\"renderers\":[{\"id\":\"2035\"}],\"tags\":[\"hv_created\"],\"tooltips\":[[\"TotalCoinsMined\",\"@{TotalCoinsMined}\"],[\"MaxSupply\",\"@{MaxSupply}\"],[\"CoinName\",\"@{CoinName}\"]]},\"id\":\"1998\",\"type\":\"HoverTool\"},{\"attributes\":{\"format\":\"%.2f\"},\"id\":\"2037\",\"type\":\"PrintfTickFormatter\"},{\"attributes\":{\"bottom_units\":\"screen\",\"fill_alpha\":0.5,\"fill_color\":\"lightgrey\",\"left_units\":\"screen\",\"level\":\"overlay\",\"line_alpha\":1.0,\"line_color\":\"black\",\"line_dash\":[4,4],\"line_width\":2,\"right_units\":\"screen\",\"top_units\":\"screen\"},\"id\":\"2021\",\"type\":\"BoxAnnotation\"},{\"attributes\":{\"margin\":[5,5,5,5],\"name\":\"HSpacer03880\",\"sizing_mode\":\"stretch_width\"},\"id\":\"1995\",\"type\":\"Spacer\"},{\"attributes\":{\"source\":{\"id\":\"2029\"}},\"id\":\"2036\",\"type\":\"CDSView\"},{\"attributes\":{\"fill_color\":{\"value\":\"#30a2da\"},\"line_color\":{\"value\":\"#30a2da\"},\"size\":{\"units\":\"screen\",\"value\":5.477225575051661},\"x\":{\"field\":\"TotalCoinsMined\"},\"y\":{\"field\":\"MaxSupply\"}},\"id\":\"2032\",\"type\":\"Scatter\"},{\"attributes\":{\"active_drag\":\"auto\",\"active_inspect\":\"auto\",\"active_multi\":null,\"active_scroll\":\"auto\",\"active_tap\":\"auto\",\"tools\":[{\"id\":\"1998\"},{\"id\":\"2016\"},{\"id\":\"2017\"},{\"id\":\"2018\"},{\"id\":\"2019\"},{\"id\":\"2020\"}]},\"id\":\"2022\",\"type\":\"Toolbar\"},{\"attributes\":{\"data_source\":{\"id\":\"2029\"},\"glyph\":{\"id\":\"2032\"},\"hover_glyph\":null,\"muted_glyph\":{\"id\":\"2034\"},\"nonselection_glyph\":{\"id\":\"2033\"},\"selection_glyph\":null,\"view\":{\"id\":\"2036\"}},\"id\":\"2035\",\"type\":\"GlyphRenderer\"},{\"attributes\":{},\"id\":\"2016\",\"type\":\"SaveTool\"},{\"attributes\":{\"below\":[{\"id\":\"2008\"}],\"center\":[{\"id\":\"2011\"},{\"id\":\"2015\"}],\"left\":[{\"id\":\"2012\"}],\"margin\":[5,5,5,5],\"min_border_bottom\":10,\"min_border_left\":10,\"min_border_right\":10,\"min_border_top\":10,\"plot_height\":400,\"plot_width\":700,\"renderers\":[{\"id\":\"2035\"}],\"sizing_mode\":\"fixed\",\"title\":{\"id\":\"2000\"},\"toolbar\":{\"id\":\"2022\"},\"x_range\":{\"id\":\"1996\"},\"x_scale\":{\"id\":\"2004\"},\"y_range\":{\"id\":\"1997\"},\"y_scale\":{\"id\":\"2006\"}},\"id\":\"1999\",\"subtype\":\"Figure\",\"type\":\"Plot\"},{\"attributes\":{\"end\":1057160533420.0321,\"reset_end\":1057160533420.0321,\"reset_start\":-57143628114.11066,\"start\":-57143628114.11066,\"tags\":[[[\"TotalCoinsMined\",\"TotalCoinsMined\",null]]]},\"id\":\"1996\",\"type\":\"Range1d\"},{\"attributes\":{},\"id\":\"2017\",\"type\":\"PanTool\"},{\"attributes\":{},\"id\":\"2006\",\"type\":\"LinearScale\"},{\"attributes\":{},\"id\":\"2018\",\"type\":\"WheelZoomTool\"},{\"attributes\":{\"axis_label\":\"MaxSupply\",\"bounds\":\"auto\",\"formatter\":{\"id\":\"2038\"},\"major_label_orientation\":\"horizontal\",\"ticker\":{\"id\":\"2013\"}},\"id\":\"2012\",\"type\":\"LinearAxis\"},{\"attributes\":{\"end\":1100018403290.9785,\"reset_end\":1100018403290.9785,\"reset_start\":-100001673027.54352,\"start\":-100001673027.54352,\"tags\":[[[\"MaxSupply\",\"MaxSupply\",null]]]},\"id\":\"1997\",\"type\":\"Range1d\"},{\"attributes\":{\"overlay\":{\"id\":\"2021\"}},\"id\":\"2019\",\"type\":\"BoxZoomTool\"},{\"attributes\":{},\"id\":\"2030\",\"type\":\"Selection\"},{\"attributes\":{\"children\":[{\"id\":\"1995\"},{\"id\":\"1999\"},{\"id\":\"2059\"}],\"margin\":[0,0,0,0],\"name\":\"Row03876\",\"tags\":[\"embedded\"]},\"id\":\"1994\",\"type\":\"Row\"},{\"attributes\":{},\"id\":\"2004\",\"type\":\"LinearScale\"},{\"attributes\":{\"data\":{\"CoinName\":[\"NovaCoin\",\"CounterParty\",\"NuShares\",\"MonaCoin\",\"Triangles Coin\",\"Emercoin\",\"SafeExchangeCoin\",\"CometCoin\",\"Stakenet\",\"OpenChat\",\"Quantum Resistant Ledger\",\"Amber\",\"BitcoinZ\",\"Pura\",\"UnitedBitcoin\",\"Bitcoin Private\",\"Callisto Network\",\"Aidos Kuneen\",\"Zelcash\",\"Kcash\",\"DAPS Coin\",\"Beam\",\"Bithereum\",\"V Systems\",\"Beldex\",\"Nervos Network\",\"VEIL\",\"Handshake\",\"MimbleWimbleCoin\",\"Arweave\",\"Ravencoin Classic\",\"Acute Angle Cloud\",\"Primas\",\"Bitcoin Vault\",\"Auroracoin\",\"INT\",\"XDNA\",\"Wibcoin\",\"TokenPay\",\"Haven Protocol\",\"EtherZero\",\"Bitcoin ABC\",\"QuarkCoin\",\"AEON\",\"BitTorrent\",\"Circuits of Value\",\"MAPS\",\"TENT\",\"ARK\",\"SysCoin\",\"VeChain\",\"Rise\",\"Nexus\",\"ICON Project\",\"HyperCash\",\"Grin\",\"DigitalNote\",\"BlackCoin\",\"ZCash\",\"WhiteCoin\",\"Waves\",\"ViaCoin\",\"Vertcoin\",\"Verge\",\"Ubiq\",\"Stratis\",\"Steem\",\"SmartCash\",\"SibCoin\",\"Siacoin\",\"Shift\",\"SaluS\",\"Reddcoin\",\"QTUM\",\"PotCoin\",\"Poa Network\",\"Private Instant Verified Transaction\",\"Ontology\",\"Nxt\",\"NavCoin\",\"Nano\",\"Namecoin\",\"Monero\",\"MegaCoin\",\"Litecoin\",\"Lisk\",\"Komodo\",\"IOCoin\",\"Horizen\",\"Gulden\",\"Groestlcoin\",\"Firo\",\"FeatherCoin\",\"Expanse\",\"Ethereum Classic\",\"Ethereum\",\"EOS\",\"Einsteinium\",\"Dogecoin\",\"DigiByte\",\"Decred\",\"Dash\",\"CloakCoin\",\"Cardano\",\"Bytom\",\"ByteCoin\",\"BurstCoin\",\"BlockNet\",\"Bitshares\",\"Bitcoin SV\",\"Bitcoin Gold\",\"Bitcoin Diamond\",\"Bitcoin Cash\",\"Bitcoin\",\"Binance Coin\",\"Aion\",\"Oxycoin\",\"Achain\"],\"MaxSupply\":{\"__ndarray__\":\"AAAAAAAA8L8AAAAAAADwvwAAAAAAAAAAAAAAAAAA8L8AAAAAAAAAAAAAAAAAAPC/AAAAAAAA8L8AAAAAAAAAAAAAAAAAAPC/AAAAAAAA8L8AAAAAsQiZQQAAAAAAAPC/AAAASMqOE0IAAAAAAADwvwAAAAD0BnRBAAAAQF/QdUEAAAAQ4jb4QQAAAAAAAAAAAAAAALEIqUEAAAAAAADwvwAAADxTTDBCAAAAAAVUr0EAAAAAAAAAAAAAAAAAAPC/AAAAAAAA8L8AAAAAAADwvwAAAACj4bFBAAAAgPtl3kEAAAAA0BJzQQAAAACkeI9BAAAASMqOE0IAAAAAAADwvwAAAAAAAPC/AAAAAPQGdEEAAAAA9AZ0QQAAAABlzc1BAAAAAAAAAADsDROLtBptQgAAAACE13dBAAAAAAAA8L8AAAAAAADwv+Vhof/zBnRBAAAAAAAA8L8AAAAAAADwvwAAAAAAAPC/AAAAAAAA8L8AAAAgX6ACQgAAAADQDJRBAAAAAAAA8L8AAAAA53bKQQAAYsx5MDRCAAAAAAAA8L8AAAAAvpiSQQAAAAAAAPC/AAAAAPQGlEEAAAAAAADwvwAAAAAAAPC/AAAAAITXl0EAAAAA9AZ0QQAAAABlzc1BAAAAAAAA8L8AAAAAAADwvwAAAAD0BpRBAAAABgrWDkIAAAAAAADwvwAAAAAAAPC/AAAAAAAA8L8AAAAgX6DyQQAAAAD0BnRBAAAAAAAA8L8AAAAAAADwvwAAAAAAAPC/AAAAAAAA8L8AAAAJ9bSZQQAAAACxCLlBAAAAAAAA8L8AAAAAAADwvwAAAAAAAPC/AAAAAGXNzUEAAAAAAADwvwAAAIjUxJ9BAAAAAAAA8L8AAAAAAADwvwAAAAD0BoRBAAAAAPQGlEEAAAAAAADwvwAAAACE16dBAAAAABj7dEEAAAAA9AZ0QQAAAACxCNlBAAAAALEImUEAAAAAnGh0QQAAAAD0BrRBAAAAAITXl0EAAADADR6pQQAAAAAAAPC/AAAAAAAA8L8AAAAAAADwvwAAAAAAAPC/AAAASMqOE0IAAAAA9AZ0QQAAAABCBnJBAAAAAAAA8L8AAAAEa/QkQgAAAACxCKlBAADAaKJ5RUIAAADQmxXgQQAAAAAAAPC/AADAEIvT6kHlYaH/8wZ0QQAAAAD0BnRBAAAAALEIqUHlYaH/8wZ0QeVhof/zBnRBzczMJ0ZUpEEAAAAAAADwvwAAAAAAAPC/AAAAAAAAAAA=\",\"dtype\":\"float64\",\"order\":\"little\",\"shape\":[118]},\"TotalCoinsMined\":{\"__ndarray__\":\"8pVAQJdjSEGfymmslPNDQdcSYbp80PVBsOXi9Qpak0HcZirkC14FQZayDDDpgoZBAADA////30EAAAAA/KIqQQ63BwCXV5xBAAAAAGXNzUGgdAFuJI6RQQAAAIHSy8RBnARV7rz1AELo7K2BQnSmQQAAAAD0BnRBJHujMb8iTUE+ix4uI+PlQQAAAACE13dBAAAAAN45ukEAAAAAZc3NQQAA8MaSAi1CM2ZnoncwkEEAAAAAh3R9QQAAsOj7nfVBAACA5Gzd1EE1yrNBolEdQqBuXksOTplB/b3I2c7OtUFGDmwbAnFkQUZ7QoDGiI5BAAAAu8pp/0EAAAAAZc3NQQAAAACE15dBf///fzCiZkH3KOPD1EpyQVnVSVAJ1b1BAAAAoOXXYEHsDROLtBptQgAAAJDk3XRBj1Mlr3dBbEGamZm97YSqQd0/Wa5Y0nFBY3EIHuIKsEG1Oun+w/1wQS0mGED9z2xCbDeWaul32kEAAAAAo+GRQQAAAIDfNYBBAQAAOKCiokF1ku7O9SjCQQAAGZsbBTRChevRvu3lpEEVjYVSeLmQQdu84jyBTspBBOahKvF9hUFovPSqOpiOQWCXfLIpwvJBXpbFpi/ijEFJ1gKV1d9kQQAAADOoVMtBAAAA6M73mEEO+Pniphl2QcF3iIZSUYxBNHML49qfDkJJ7NTU/heIQQAAAKD7755BBoH1c4ibtkEjHaxqfqPjQfOirVp8MHJBAACAGlwLJkIAAAAA+h9sQRslVFnNgi9BcpXL5e0EHEIAAABAxp+YQYzdpWpm8KpBcMyA4o0NsUH5HP8QUU2PQQAAAABlzc1BQAb4u8PFzUGEblg0bAKRQQAAAIjUxJ9BAAAASHeZcEFHkHuuRwxxQTvecS1Nz4JBHRPvGKQNkEEAAAB8Ih6hQabW3aBHQp5BceuWzz3pcUEAAADILtZkQW8UacVFyL9Bpq+MF8ZqkkGiRuFYB1NmQTH1Axx8q6xBXI/C/+GLgEHYI7PiUAeeQdv5/pRHfJtBFND8LmilzkH5//98PWWqQQe0n1ASAT5CZNNvPWtnCkKt0iejSFtoQV4z1smzMGNBv7GtKw5mVUGo0erc4c8dQgAAYHSI1dhBOoww4o55RUIAAIA3/nffQcRBYfda81xBpDZcTEtQ5kGbzU6iv9NxQWkvxong0XFBAAAA8zvSp0H6P1kaNdRxQQAAAAAiznFBzczMJ0ZUpEEAAABC11m9QRSu13KMudBBAAAAAGXNzUE=\",\"dtype\":\"float64\",\"order\":\"little\",\"shape\":[118]}},\"selected\":{\"id\":\"2030\"},\"selection_policy\":{\"id\":\"2051\"}},\"id\":\"2029\",\"type\":\"ColumnDataSource\"},{\"attributes\":{\"axis_label\":\"TotalCoinsMined\",\"bounds\":\"auto\",\"formatter\":{\"id\":\"2037\"},\"major_label_orientation\":0.7853981633974483,\"ticker\":{\"id\":\"2009\"}},\"id\":\"2008\",\"type\":\"LinearAxis\"},{\"attributes\":{},\"id\":\"2020\",\"type\":\"ResetTool\"},{\"attributes\":{\"axis\":{\"id\":\"2012\"},\"dimension\":1,\"grid_line_color\":null,\"ticker\":null},\"id\":\"2015\",\"type\":\"Grid\"},{\"attributes\":{\"fill_alpha\":{\"value\":0.1},\"fill_color\":{\"value\":\"#30a2da\"},\"line_alpha\":{\"value\":0.1},\"line_color\":{\"value\":\"#30a2da\"},\"size\":{\"units\":\"screen\",\"value\":5.477225575051661},\"x\":{\"field\":\"TotalCoinsMined\"},\"y\":{\"field\":\"MaxSupply\"}},\"id\":\"2033\",\"type\":\"Scatter\"},{\"attributes\":{},\"id\":\"2051\",\"type\":\"UnionRenderers\"},{\"attributes\":{\"text\":\"Tradable crypto scatter plot\",\"text_color\":{\"value\":\"black\"},\"text_font_size\":{\"value\":\"12pt\"}},\"id\":\"2000\",\"type\":\"Title\"},{\"attributes\":{\"format\":\"%.2f\"},\"id\":\"2038\",\"type\":\"PrintfTickFormatter\"},{\"attributes\":{},\"id\":\"2009\",\"type\":\"BasicTicker\"},{\"attributes\":{\"axis\":{\"id\":\"2008\"},\"grid_line_color\":null,\"ticker\":null},\"id\":\"2011\",\"type\":\"Grid\"},{\"attributes\":{\"fill_alpha\":{\"value\":0.2},\"fill_color\":{\"value\":\"#30a2da\"},\"line_alpha\":{\"value\":0.2},\"line_color\":{\"value\":\"#30a2da\"},\"size\":{\"units\":\"screen\",\"value\":5.477225575051661},\"x\":{\"field\":\"TotalCoinsMined\"},\"y\":{\"field\":\"MaxSupply\"}},\"id\":\"2034\",\"type\":\"Scatter\"},{\"attributes\":{},\"id\":\"2013\",\"type\":\"BasicTicker\"},{\"attributes\":{\"margin\":[5,5,5,5],\"name\":\"HSpacer03881\",\"sizing_mode\":\"stretch_width\"},\"id\":\"2059\",\"type\":\"Spacer\"}],\"root_ids\":[\"1994\"]},\"title\":\"Bokeh Application\",\"version\":\"2.2.3\"}};\n",
       "    var render_items = [{\"docid\":\"0837ef60-007a-488b-83d8-4ba4a3592ff7\",\"root_ids\":[\"1994\"],\"roots\":{\"1994\":\"10465218-bf1f-4239-a2d4-9e8c1d279d4b\"}}];\n",
       "    root.Bokeh.embed.embed_items_notebook(docs_json, render_items);\n",
       "  }\n",
       "  if (root.Bokeh !== undefined && root.Bokeh.Panel !== undefined) {\n",
       "    embed_document(root);\n",
       "  } else {\n",
       "    var attempts = 0;\n",
       "    var timer = setInterval(function(root) {\n",
       "      if (root.Bokeh !== undefined && root.Bokeh.Panel !== undefined) {\n",
       "        clearInterval(timer);\n",
       "        embed_document(root);\n",
       "      } else if (document.readyState == \"complete\") {\n",
       "        attempts++;\n",
       "        if (attempts > 100) {\n",
       "          clearInterval(timer);\n",
       "          console.log(\"Bokeh: ERROR: Unable to run BokehJS code because BokehJS library is missing\");\n",
       "        }\n",
       "      }\n",
       "    }, 10, root)\n",
       "  }\n",
       "})(window);</script>"
      ],
      "text/plain": [
       ":Scatter   [TotalCoinsMined]   (MaxSupply,CoinName)"
      ]
     },
     "execution_count": 62,
     "metadata": {
      "application/vnd.holoviews_exec.v0+json": {
       "id": "1994"
      }
     },
     "output_type": "execute_result"
    }
   ],
   "source": [
    "# Plot the scatter with x=\"TotalCoinsMined\" and y=\"TotalCoinSupply\"\n",
    "scatter = clustered_df.hvplot.scatter(x=\"TotalCoinsMined\", y=\"MaxSupply\", hover_cols=[\"CoinName\"])\n",
    "scatter.relabel('Tradable crypto scatter plot').opts(xformatter='%.2f', yformatter='%.2f', xrotation=45, height=400)"
   ]
  },
  {
   "cell_type": "code",
   "execution_count": null,
   "metadata": {},
   "outputs": [],
   "source": []
  }
 ],
 "metadata": {
  "file_extension": ".py",
  "kernelspec": {
   "display_name": "Python 3",
   "language": "python",
   "name": "python3"
  },
  "language_info": {
   "codemirror_mode": {
    "name": "ipython",
    "version": 3
   },
   "file_extension": ".py",
   "mimetype": "text/x-python",
   "name": "python",
   "nbconvert_exporter": "python",
   "pygments_lexer": "ipython3",
   "version": "3.7.9"
  },
  "mimetype": "text/x-python",
  "name": "python",
  "npconvert_exporter": "python",
  "pygments_lexer": "ipython3",
  "version": 3
 },
 "nbformat": 4,
 "nbformat_minor": 4
}
